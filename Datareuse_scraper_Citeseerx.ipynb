{
  "nbformat": 4,
  "nbformat_minor": 0,
  "metadata": {
    "colab": {
      "name": "Datareuse-scraper Citeseerx.ipynb",
      "provenance": [],
      "collapsed_sections": [],
      "include_colab_link": true
    },
    "kernelspec": {
      "display_name": "Python 3",
      "language": "python",
      "name": "python3"
    },
    "language_info": {
      "codemirror_mode": {
        "name": "ipython",
        "version": 3
      },
      "file_extension": ".py",
      "mimetype": "text/x-python",
      "name": "python",
      "nbconvert_exporter": "python",
      "pygments_lexer": "ipython3",
      "version": "3.7.10"
    }
  },
  "cells": [
    {
      "cell_type": "markdown",
      "metadata": {
        "id": "view-in-github",
        "colab_type": "text"
      },
      "source": [
        "<a href=\"https://colab.research.google.com/github/asukul/scraper/blob/main/Datareuse_scraper_Citeseerx.ipynb\" target=\"_parent\"><img src=\"https://colab.research.google.com/assets/colab-badge.svg\" alt=\"Open In Colab\"/></a>"
      ]
    },
    {
      "cell_type": "code",
      "metadata": {
        "id": "vkO0dPlt8tKl"
      },
      "source": [
        "#Adisak \n",
        "\n",
        "#Tutorials\n",
        "# https://linuxhint.com/parse_xml_python_beautifulsoup/\n",
        "# https://www.youtube.com/watch?v=87Gx3U0BDlo\n",
        "# https://www.youtube.com/watch?v=GWXpWU3d23M\n"
      ],
      "execution_count": 1,
      "outputs": []
    },
    {
      "cell_type": "code",
      "metadata": {
        "colab": {
          "base_uri": "https://localhost:8080/"
        },
        "id": "mEEiJT788tN0",
        "outputId": "b4956750-f436-43a1-8634-39bd77ff7cb4"
      },
      "source": [
        "pip install bs4 lxml"
      ],
      "execution_count": 2,
      "outputs": [
        {
          "output_type": "stream",
          "text": [
            "Requirement already satisfied: bs4 in /usr/local/lib/python3.7/dist-packages (0.0.1)\n",
            "Requirement already satisfied: lxml in /usr/local/lib/python3.7/dist-packages (4.2.6)\n",
            "Requirement already satisfied: beautifulsoup4 in /usr/local/lib/python3.7/dist-packages (from bs4) (4.6.3)\n"
          ],
          "name": "stdout"
        }
      ]
    },
    {
      "cell_type": "code",
      "metadata": {
        "id": "1RXsuV2w01xz"
      },
      "source": [
        ""
      ],
      "execution_count": 2,
      "outputs": []
    },
    {
      "cell_type": "code",
      "metadata": {
        "id": "OaOc1JrY8tQs"
      },
      "source": [
        "import requests\n",
        "import bs4\n",
        "import lxml"
      ],
      "execution_count": 3,
      "outputs": []
    },
    {
      "cell_type": "code",
      "metadata": {
        "id": "YwOYGuNM8tTk"
      },
      "source": [
        "# Import BeautifulSoup\n",
        "from bs4 import BeautifulSoup\n"
      ],
      "execution_count": 4,
      "outputs": []
    },
    {
      "cell_type": "code",
      "metadata": {
        "id": "1klgb99607I_"
      },
      "source": [
        "result = requests.get(\"https://citeseerx.ist.psu.edu/viewdoc/summary?doi=10.1.1.27.7414\")\n",
        "result_xml = requests.get(\"http://citeseerx.ist.psu.edu/oai2?verb=GetRecord&metadataPrefix=oai_dc&identifier=oai:CiteSeerX.psu:10.1.1.141.6422\")"
      ],
      "execution_count": 5,
      "outputs": []
    },
    {
      "cell_type": "code",
      "metadata": {
        "colab": {
          "base_uri": "https://localhost:8080/"
        },
        "id": "oAC0dNMP1C5O",
        "outputId": "142f7755-4c56-487d-b007-520321fcb5fa"
      },
      "source": [
        "print(result.status_code)"
      ],
      "execution_count": 6,
      "outputs": [
        {
          "output_type": "stream",
          "text": [
            "200\n"
          ],
          "name": "stdout"
        }
      ]
    },
    {
      "cell_type": "code",
      "metadata": {
        "colab": {
          "base_uri": "https://localhost:8080/"
        },
        "id": "Vuj71o3x1Nh-",
        "outputId": "40303a04-f579-4722-b512-261d5b1646ef"
      },
      "source": [
        "print(result.headers)"
      ],
      "execution_count": 7,
      "outputs": [
        {
          "output_type": "stream",
          "text": [
            "{'Server': 'Apache-Coyote/1.1', 'Set-Cookie': 'JSESSIONID=D28D6F6A1BE5E5E0D6E0AF350646878A; Path=/; Secure; HttpOnly', 'Content-Type': 'text/html;charset=UTF-8', 'Content-Language': 'en-US', 'Transfer-Encoding': 'chunked', 'Date': 'Tue, 13 Jul 2021 23:11:25 GMT'}\n"
          ],
          "name": "stdout"
        }
      ]
    },
    {
      "cell_type": "code",
      "metadata": {
        "id": "Z9EnJ_Ej1YOj"
      },
      "source": [
        "src = result.content"
      ],
      "execution_count": 8,
      "outputs": []
    },
    {
      "cell_type": "code",
      "metadata": {
        "colab": {
          "base_uri": "https://localhost:8080/"
        },
        "id": "JsZUM3m91be8",
        "outputId": "e14238d7-5bf6-46da-bf2c-e44494e9b18c"
      },
      "source": [
        "print(src)"
      ],
      "execution_count": 9,
      "outputs": [
        {
          "output_type": "stream",
          "text": [
            "b'\\n<!DOCTYPE html PUBLIC \"-//W3C//DTD XHTML 1.0 Transitional//EN\"\\r\\n\"http://www.w3.org/TR/xhtml1/DTD/xhtml1-transitional.dtd\">\\r\\n\\r\\n\\n      \\n\\r\\n<html xmlns=\"http://www.w3.org/1999/xhtml\" lang=\"en\" xml:lang=\"en\">\\r\\n<head profile=\"http://www.w3.org/2005/11/profile http://a9.com/-/spec/opensearch/1.1/\">\\r\\n  <meta http-equiv=\"Content-Type\" content=\"text/html; charset=UTF-8\" />\\r\\n  <meta property=\"og:image\" content=\"/images/csx_logo_front.png\" />\\r\\n   \\r\\n    <title>CiteSeerX &mdash; Decision-Theoretic Planning: Structural Assumptions and Computational Leverage</title>\\r\\n  \\r\\n  \\r\\n    <meta name=\"description\" content=\"CiteSeerX - Document Details (Isaac Councill, Lee Giles, Pradeep Teregowda): Planning under uncertainty is a central problem in the study of automated sequential  decision making, and has been addressed by researchers in many different fields, including  AI planning, decision analysis, operations research, control theory and economics. While  the assumptions and perspectives adopted in these areas often differ in substantial ways,  many planning problems of interest to researchers in these fields can be modeled as Markov  decision processes (MDPs) and analyzed using the techniques of decision theory.  This paper presents an overview and synthesis of MDP-related methods, showing how  they provide a unifying framework for modeling many classes of planning problems studied  in AI. It also describes structural properties of MDPs that, when exhibited by particular  classes of problems, can be exploited in the construction of optimal or approximately  optimal policies or plans. Planning problems commonly possess structure in the reward  and value functions used to de...\" />\\r\\n  \\r\\n  \\r\\n    <meta name=\"keywords\" content=\"CiteSeerX, Craig Boutilier, Thomas Dean, Steve Hanks\" />\\r\\n  \\r\\n    \\r\\n    <meta name=\"citation_title\" content=\"Decision-Theoretic Planning: Structural Assumptions and Computational Leverage\" />\\r\\n  \\r\\n  \\r\\n    <meta name=\"citation_authors\" content=\"Craig Boutilier, Thomas Dean, Steve Hanks\" />\\r\\n  \\r\\n  \\r\\n    <meta name=\"citation_year\" content=\"1999\" />\\r\\n  \\r\\n  \\r\\n    <meta name=\"citation_conference\" content=\"JOURNAL OF ARTIFICIAL INTELLIGENCE RESEARCH\" />\\r\\n  \\r\\n\\r\\n  <link rel=\"shortcut icon\" type=\"image/x-icon\" href=\"/favicon.ico;jsessionid=D28D6F6A1BE5E5E0D6E0AF350646878A\" />\\r\\n  \\n  <link rel=\"search\" title=\"CiteSeerX\" type=\"application/opensearchdescription+xml\" href=\"/search_plugins/citeseerx_general.xml;jsessionid=D28D6F6A1BE5E5E0D6E0AF350646878A\" />\\n  <link rel=\"search\" title=\"CiteSeerX Author\" type=\"application/opensearchdescription+xml\" href=\"/search_plugins/citeseerx_author.xml;jsessionid=D28D6F6A1BE5E5E0D6E0AF350646878A\" />\\n  <link rel=\"search\" title=\"CiteSeerX Title\" type=\"application/opensearchdescription+xml\" href=\"/search_plugins/citeseerx_title.xml;jsessionid=D28D6F6A1BE5E5E0D6E0AF350646878A\" />\\r\\n    \\r\\n    \\r\\n\\t<link rel=\"alternate\" type=\"application/atom+xml\" title=\"CiteSeerX Search Results - Atom\" href=\"/search;jsessionid=D28D6F6A1BE5E5E0D6E0AF350646878A?\" />\\r\\n\\t<link rel=\"alternate\" type=\"application/rss+xml\" title=\"CiteSeerX Search Results - RSS\" href=\"/search;jsessionid=D28D6F6A1BE5E5E0D6E0AF350646878A?\" />\\r\\n\\r\\n\\t\\r\\n\\t<link type=\"text/css\" rel=\"stylesheet\" href=\"/css/main.css;jsessionid=D28D6F6A1BE5E5E0D6E0AF350646878A\" />\\r\\n\\t<script type=\"text/javascript\" src=\"/js/jquery-1.4.2.min.js;jsessionid=D28D6F6A1BE5E5E0D6E0AF350646878A\"></script>\\r\\n  <script type=\"text/javascript\" src=\"/js/jquery-ui-1.8.custom.min.js;jsessionid=D28D6F6A1BE5E5E0D6E0AF350646878A\"></script>\\r\\n\\t<script type=\"text/javascript\" src=\"/js/jquery.idTabs.min.js;jsessionid=D28D6F6A1BE5E5E0D6E0AF350646878A\"></script>\\r\\n\\t<script type=\"text/javascript\" src=\"/js/metacart.js;jsessionid=D28D6F6A1BE5E5E0D6E0AF350646878A\"></script>\\r\\n\\t<script type=\"text/javascript\" src=\"/js/topnav.js;jsessionid=D28D6F6A1BE5E5E0D6E0AF350646878A\"></script>\\r\\n\\t<script type=\"text/javascript\" src=\"/js/citeseerx.js;jsessionid=D28D6F6A1BE5E5E0D6E0AF350646878A\"></script>\\r\\n\\t<script type=\"text/javascript\" src=\"/js/correctionutils.js;jsessionid=D28D6F6A1BE5E5E0D6E0AF350646878A\"></script>\\r\\n\\t<script type=\"text/javascript\" src=\"/js/checkboxes.js;jsessionid=D28D6F6A1BE5E5E0D6E0AF350646878A\"></script>\\r\\n\\t<script type=\"text/javascript\" src=\"/js/ga.js;jsessionid=D28D6F6A1BE5E5E0D6E0AF350646878A\"></script>\\r\\n\\t<script type=\"text/javascript\" src=\"/js/s2button.js;jsessionid=D28D6F6A1BE5E5E0D6E0AF350646878A\"></script>\\r\\n\\t\\r\\n\\t\\r\\n</head>\\r\\n<body>\\r\\n\\t<div id=\"wrapper\">\\r\\n  \\t\\n\\n\\n\\n<div id=\"topnav\">\\n  \\n  <ul id=\"search_nav\">\\n    \\n      <li class=\"active\"><a href=\"#search_docs\">Documents</a></li>\\n      <li><a href=\"/#search_auth\">Authors</a></li>\\n      <li><a href=\"/#search_tables\">Tables</a></li>\\n      \\n    \\n    \\n  </ul>\\n  \\n  \\n  \\n    \\n    \\n    \\n    <ul id=\"toptools\">\\n  \\t\\t\\n        <li><a href=\"/myciteseer/login;jsessionid=D28D6F6A1BE5E5E0D6E0AF350646878A\">Log in</a></li>\\n        <li><a href=\"/mcsutils/newAccount;jsessionid=D28D6F6A1BE5E5E0D6E0AF350646878A\">Sign up</a></li>\\n      \\n        <li><a href=\"/metacart;jsessionid=D28D6F6A1BE5E5E0D6E0AF350646878A\">MetaCart</a></li>\\n\\t\\t<li><a href=\"https://www.psu.edu/copyright-information/\" target=\"_blank\">DMCA</a></li>\\n\\n        <li><a href=\"http://www.givenow.psu.edu/CiteseerxFund\"><font color=\"#045FB4\">Donate</font></a></li>\\n    </ul>\\n  \\n</div>\\n\\r\\n\\t  <div id=\"header\">\\r\\n\\t\\t\\t<h1 id=\"title\"><a href=\"/;jsessionid=D28D6F6A1BE5E5E0D6E0AF350646878A\" title=\"CiteSeerX\"><img src=\"/images/csx_logo.png;jsessionid=D28D6F6A1BE5E5E0D6E0AF350646878A\" alt=\"CiteSeerX logo\" height=\"50%\" width=\"50%\"/></a></h1>\\r\\n\\t\\t</div>\\r\\n\\n<div id=\"main\">\\n<div id=\"search\">\\n  \\n    <div id=\"search_docs\">\\n      <form method=\"get\" action=\"/search;jsessionid=D28D6F6A1BE5E5E0D6E0AF350646878A\" enctype=\"application/x-www-form-urlencoded\">\\n        <label>Documents:</label>\\n        <input class=\"s_field\" type=\"text\" name=\"q\" value=\"\" />\\n\\t\\t<input class=\"s_button\" type=\"image\" name=\"submit\" value=\"Search\" alt=\"Search\" src=\"/images/search_icon.png;jsessionid=D28D6F6A1BE5E5E0D6E0AF350646878A\" />\\n\\t\\t<input class=\"s_button\" type=\"image\" name=\"s2\" value=\"Semantic Scholar\" alt=\"Semantic Scholar\" src=\"/images/s2_icon.png;jsessionid=D28D6F6A1BE5E5E0D6E0AF350646878A\" />\\n\\t\\t<div class=\"opts\">\\n          <a href=\"/advanced_search;jsessionid=D28D6F6A1BE5E5E0D6E0AF350646878A\" title=\"Search full text, title, abstract, date, author name, author affiliation, etc.\">Advanced Search</a>\\n          <input class=\"c_box\" type=\"checkbox\" name=\"ic\" value=\"1\"  /> Include Citations\\n        </div>\\n        <input type=\"hidden\" name=\"sort\" value=\"rlv\" />\\n        <input type=\"hidden\" name=\"t\" value=\"doc\" />\\n      </form>\\n    </div>\\n\\t\\t  \\n\\t<div id=\"search_auth\">\\n\\t  <form method=\"get\" action=\"/search;jsessionid=D28D6F6A1BE5E5E0D6E0AF350646878A\" enctype=\"application/x-www-form-urlencoded\">\\n\\t    <label>Authors:</label>\\n        <input class=\"s_field\" type=\"text\" name=\"q\" value=\"\" />\\n        <input class=\"s_button\" type=\"submit\" name=\"submit\" value=\"Search\" alt=\"Search\" />\\n        <div class=\"opts\">\\n          <a href=\"/advanced_search;jsessionid=D28D6F6A1BE5E5E0D6E0AF350646878A\" title=\"Search full text, title, abstract, date, author name, author affiliation, etc.\">Advanced Search</a>\\n          <input class=\"c_box\" type=\"checkbox\" name=\"ic\" value=\"1\"  /> Include Citations \\n          \\n        </div>\\n        <input type=\"hidden\" name=\"uauth\" value=\"1\"/>\\n        <input type=\"hidden\" name=\"sort\" value=\"ndocs\" />\\n        <input type=\"hidden\" name=\"t\" value=\"auth\" />\\n\\t   </form>\\n\\t  </div>\\t\\t  \\n    <div id=\"search_tables\">\\n      <form method=\"get\" action=\"/search;jsessionid=D28D6F6A1BE5E5E0D6E0AF350646878A\" enctype=\"application/x-www-form-urlencoded\">\\n        <label>Tables:</label>\\n        <input class=\"s_field\" type=\"text\" name=\"q\" value=\"\" />\\n        <input class=\"s_button\" type=\"submit\" name=\"submit\" value=\"Search\" alt=\"Search\" />\\n        <input type=\"hidden\" name=\"t\" value=\"table\" />\\n        <input type=\"hidden\" name=\"sort\" value=\"rlv\" />\\n     </form>\\n    </div>\\n\\n\\n  \\n  \\n</div>\\n\\n  <div id=\"viewHeader\" class=\"viewDoc\">\\n\\t<h4 id=\"DMCA\" style=\"float: right;\"><a href=\"https://www.psu.edu/copyright-information/\" title=\"DMCA\">DMCA</a></h4>\\n    <h2>Decision-Theoretic Planning: Structural Assumptions and Computational Leverage  (1999) </h2>\\n    <div id=\"downloads\">\\n      \\n        \\n          <h3>Cached</h3>\\n          <ul id=\"clinks\">\\n          \\n            \\n            \\n            \\n              <li><a href=\"/viewdoc/download;jsessionid=D28D6F6A1BE5E5E0D6E0AF350646878A?doi=10.1.1.27.7414&amp;rep=rep1&amp;type=pdf\" title=\"View or Download this document as PDF\">\\n              <img src=\"/images/pdf_icon.png;jsessionid=D28D6F6A1BE5E5E0D6E0AF350646878A\" alt=\"Download as a PDF\"/>\\n              </a></li>\\n            \\n            \\n          \\n          </ul>\\n        \\n        \\n      \\n      \\n        <h3>Download Links</h3>\\n        <ul id=\"dlinks\">\\n        \\n          <li>\\n            <a href=\"ftp://ftp.mrg.dist.unige.it/pub/jair/pub/volume11/boutilier99a.ps\" title=\"ftp://ftp.mrg.dist.unige.it/pub/jair/pub/volume11/boutilier99a.ps\" escapeXml=\"true\">\\n              [ftp.mrg.dist.unige.it]\\n            </a>\\n          </li>\\n        \\n          <li>\\n            <a href=\"http://www.isi.edu/~blythe/cs541/Readings/boutilier-etal-jair99.ps\" title=\"http://www.isi.edu/~blythe/cs541/Readings/boutilier-etal-jair99.ps\" escapeXml=\"true\">\\n              [www.isi.edu]\\n            </a>\\n          </li>\\n        \\n          <li>\\n            <a href=\"http://www.cs.cmu.edu/afs/cs/project/jair/pub/volume11/boutilier99a.pdf\" title=\"http://www.cs.cmu.edu/afs/cs/project/jair/pub/volume11/boutilier99a.pdf\" escapeXml=\"true\">\\n              [www.cs.cmu.edu]\\n            </a>\\n          </li>\\n        \\n          <li>\\n            <a href=\"http://www.eecs.harvard.edu/~avi/CS281r/F06/Papers/boutilier-et-al-mdp.pdf\" title=\"http://www.eecs.harvard.edu/~avi/CS281r/F06/Papers/boutilier-et-al-mdp.pdf\" escapeXml=\"true\">\\n              [www.eecs.harvard.edu]\\n            </a>\\n          </li>\\n        \\n          <li>\\n            <a href=\"http://jair.org/media/575/live-575-1777-jair.pdf\" title=\"http://jair.org/media/575/live-575-1777-jair.pdf\" escapeXml=\"true\">\\n              [jair.org]\\n            </a>\\n          </li>\\n        \\n          <li>\\n            <a href=\"http://www.jair.org/media/575/live-575-1777-jair.pdf\" title=\"http://www.jair.org/media/575/live-575-1777-jair.pdf\" escapeXml=\"true\">\\n              [www.jair.org]\\n            </a>\\n          </li>\\n        \\n          <li>\\n            <a href=\"http://www.cs.brown.edu/people/tld/publications/archive/BoutilieretalJAIR-99.pdf\" title=\"http://www.cs.brown.edu/people/tld/publications/archive/BoutilieretalJAIR-99.pdf\" escapeXml=\"true\">\\n              [www.cs.brown.edu]\\n            </a>\\n          </li>\\n        \\n          <li>\\n            <a href=\"http://cs.brown.edu/people/tld/publications/archive/BoutilieretalJAIR-99.pdf\" title=\"http://cs.brown.edu/people/tld/publications/archive/BoutilieretalJAIR-99.pdf\" escapeXml=\"true\">\\n              [cs.brown.edu]\\n            </a>\\n          </li>\\n        \\n          <li>\\n            <a href=\"http://arxiv.org/pdf/1105.5460.pdf\" title=\"http://arxiv.org/pdf/1105.5460.pdf\" escapeXml=\"true\">\\n              [arxiv.org]\\n            </a>\\n          </li>\\n        \\n      \\n      <br/>\\n      \\n        <h3>Other Repositories/Bibliography</h3>\\n        \\n          <li><a href=\"/viewdoc/redirect;jsessionid=D28D6F6A1BE5E5E0D6E0AF350646878A?doi=10.1.1.27.7414&label=DBLP\" title=\"DBLP\">\\n          DBLP</a></li>\\n        \\n      \\n      </ul>\\n    </div>\\n    <div id=\"docTools\">\\n      <ul class=\"button_nav\">\\n        <li><a style=\"cursor: pointer;\" onclick=\"addToCartProxy(62146)\">Save to List</a>\\n        <span id=\"cmsg_62146\" class=\"cartmsg\"></span></li>\\n        <li><a class=\"remove\"  href=\"/myciteseer/action/addPaperCollection;jsessionid=D28D6F6A1BE5E5E0D6E0AF350646878A?doi=10.1.1.27.7414\" title=\"Add this document to your collection (Account required)\">Add to Collection</a></li>\\n        <li><a class=\"remove\" href=\"/correct;jsessionid=D28D6F6A1BE5E5E0D6E0AF350646878A?doi=10.1.1.27.7414\" title=\"Submit corrections for this document (Account required)\">Correct Errors</a></li>\\n        <li><a class=\"remove\" href=\"/myciteseer/action/editMonitors;jsessionid=D28D6F6A1BE5E5E0D6E0AF350646878A?doi=10.1.1.27.7414\" title=\"Monitor changes to this document (Account required)\">Monitor Changes</a></li>\\n      </ul>\\n    </div>\\n    <div id=\"docInfo\">\\n      <div id=\"docAuthors\">\\n        by \\n        \\n          \\n            \\n            \\n              Craig Boutilier\\n            \\n            ,\\n          \\n            \\n            \\n              Thomas Dean\\n            \\n            ,\\n          \\n            \\n            \\n              Steve Hanks\\n            \\n            \\n          \\n        \\n      </div>\\n      <div id=\"docOther\">\\n        <table>\\n          \\n            <tr id=\"docVenue\"><td class=\"title\">Venue:</td><td>JOURNAL OF ARTIFICIAL INTELLIGENCE RESEARCH</td>\\n          \\n          \\n            <tr id=\"docCites\"><td class=\"title\">Citations:</td><td><a href=\"/showciting;jsessionid=D28D6F6A1BE5E5E0D6E0AF350646878A?doi=10.1.1.27.7414\" title=\"number of citations\">514 - 4 self</a>\\n            </td></tr>\\n          \\n        </table>\\n      </div>\\n    </div>\\n    <div class=\"clear\"></div>\\n  </div>\\n\\n  <div id=\"docMenu\" class=\"submenu\">\\n    <ul>\\n      <li  class=\"active\" ><a href=\"/viewdoc/summary;jsessionid=D28D6F6A1BE5E5E0D6E0AF350646878A?doi=10.1.1.27.7414\">Summary</a></li>\\n      <li  ><a href=\"/viewdoc/citations;jsessionid=D28D6F6A1BE5E5E0D6E0AF350646878A?doi=10.1.1.27.7414\">Citations</a></li>\\n      <li  ><a href=\"/viewdoc/similar;jsessionid=D28D6F6A1BE5E5E0D6E0AF350646878A?doi=10.1.1.27.7414&amp;type=ab\" title=\"Documents that cite the same works\">Active Bibliography</a></li>\\n      <li  ><a href=\"/viewdoc/similar;jsessionid=D28D6F6A1BE5E5E0D6E0AF350646878A?doi=10.1.1.27.7414&amp;type=cc\" title=\"Documents cited by the same works\">Co-citation</a></li>\\n      <li ><a href=\"/viewdoc/similar;jsessionid=D28D6F6A1BE5E5E0D6E0AF350646878A?doi=10.1.1.27.7414&amp;type=sc\" title=\"Documents in the Same Cluster\">Clustered Documents</a></li>\\n      <li ><a href=\"/viewdoc/versions;jsessionid=D28D6F6A1BE5E5E0D6E0AF350646878A?doi=10.1.1.27.7414\">Version History</a></li>\\n      <!--<li><a  href=\"/viewdoc/clustered;jsessionid=D28D6F6A1BE5E5E0D6E0AF350646878A?doi=10.1.1.27.7414\">Clustered Documents</a></li>-->\\n    </ul>\\n  </div>\\n\\r\\n  <div id=\"viewContent\" class=\"sidebar\">\\r\\n    <div id=\"viewContent-inner\">\\r\\n      <div id=\"viewSidebar\">\\r\\n        \\r\\n          \\r\\n          \\r\\n          \\r\\n        \\t\\t\\r\\n        \\r\\n        \\r\\n        \\r\\n          <div id=\"bibtex\" class=\"block\">\\r\\n            <h3>BibTeX</h3>\\r\\n            <p>@ARTICLE{Boutilier99decision-theoreticplanning:,<br/>&nbsp;&nbsp;&nbsp;&nbsp;author = {Craig Boutilier and Thomas Dean and Steve Hanks},<br/>&nbsp;&nbsp;&nbsp;&nbsp;title = {Decision-Theoretic Planning: Structural Assumptions and Computational Leverage},<br/>&nbsp;&nbsp;&nbsp;&nbsp;journal = {JOURNAL OF ARTIFICIAL INTELLIGENCE RESEARCH},<br/>&nbsp;&nbsp;&nbsp;&nbsp;year = {1999},<br/>&nbsp;&nbsp;&nbsp;&nbsp;volume = {11},<br/>&nbsp;&nbsp;&nbsp;&nbsp;pages = {1--94}<br/>}<br/></p>\\r\\n          </div> <!-- End content box -->\\r\\n        \\r\\n        <div id=\"bookmark\" class=\"block\">\\r\\n          <h3>Share</h3>\\r\\n          <table border=\"0\" cellspacing=\"0\" cellpadding=\"5\">\\r\\n            <tr>\\r\\n              <td><a href=\"/viewdoc/bookmark;jsessionid=D28D6F6A1BE5E5E0D6E0AF350646878A?doi=10.1.1.27.7414&amp;title=Decision-Theoretic Planning: Structural Assumptions and Computational Leverage&amp;site=facebook\" title=\"Facebook\"><img src=\"/images/facebook_icon.png;jsessionid=D28D6F6A1BE5E5E0D6E0AF350646878A\" alt=\"Facebook\"/></a></td>\\r\\n              <td><a href=\"/viewdoc/bookmark;jsessionid=D28D6F6A1BE5E5E0D6E0AF350646878A?doi=10.1.1.27.7414&amp;title=Decision-Theoretic Planning: Structural Assumptions and Computational Leverage&amp;site=twitter\" title=\"Twitter\"><img src=\"/images/twitter_icon.png;jsessionid=D28D6F6A1BE5E5E0D6E0AF350646878A\" alt=\"Twitter\"/></a></td>\\r\\n              <td><a href=\"/viewdoc/bookmark;jsessionid=D28D6F6A1BE5E5E0D6E0AF350646878A?doi=10.1.1.27.7414&amp;title=Decision-Theoretic Planning: Structural Assumptions and Computational Leverage&amp;site=reddit\" title=\"Reddit\"><img src=\"/images/reddit_icon.png;jsessionid=D28D6F6A1BE5E5E0D6E0AF350646878A\" alt=\"Reddit\"/></a></td>\\r\\n              <td><a href=\"/viewdoc/bookmark;jsessionid=D28D6F6A1BE5E5E0D6E0AF350646878A?doi=10.1.1.27.7414&amp;site=bibsonomy&amp;title=Decision-Theoretic Planning: Structural Assumptions and Computational Leverage\" title=\"BibSonomy\"><img src=\"/images/bibsonomy_icon.png;jsessionid=D28D6F6A1BE5E5E0D6E0AF350646878A\" alt=\"Bibsonomy\"/></a></td>\\r\\n              </tr>\\r\\n\\t      <tr>\\r\\n\\t\\t<td colspan=\"6\">\\r\\n\\t\\t<script src=\"http://widgets.twimg.com/j/2/widget.js\"></script>\\r\\n\\t\\t<script>\\r\\n\\t\\t\\tvar doi;\\r\\n\\t\\t\\tdoi=\"10.1.1.27.7414\";\\r\\n\\t\\t\\tnew TWTR.Widget({\\r\\n  \\t\\t\\tversion: 2,\\r\\n  \\t\\t\\ttype: \\'search\\',\\r\\n  \\t\\t\\tsearch: \\'citeseerx+\\'+doi,\\r\\n  \\t\\t\\tinterval: 30000,\\r\\n  \\t\\t\\ttitle: \\'CiteSeerX\\',\\r\\n  \\t\\t\\tsubject: doi,\\r\\n  \\t\\t\\twidth: 255,\\r\\n  \\t\\t\\theight: 30,\\r\\n  \\t\\t\\ttheme: {\\r\\n    \\t\\t\\tshell: {\\r\\n      \\t\\t\\tbackground: \\'#E6E6E6\\',\\r\\n      \\t\\t\\tcolor: \\'#000000\\'\\r\\n    \\t\\t\\t},\\r\\n    \\t\\t\\ttweets: {\\r\\n      \\t\\t\\t\\tbackground: \\'#ffffff\\',\\r\\n      \\t\\t\\t\\tcolor: \\'#444444\\',\\r\\n      \\t\\t\\t\\tlinks: \\'#1985b5\\'\\r\\n    \\t\\t\\t}\\r\\n  \\t\\t},\\r\\n  \\t\\tfeatures: {\\r\\n    \\t\\tscrollbar: false,\\r\\n    \\t\\tloop: true,\\r\\n    \\t\\tlive: true,\\r\\n    \\t\\tbehavior: \\'default\\'\\r\\n \\t\\t }\\r\\n\\t\\t}).render().start();\\r\\n\\t\\t</script>\\t\\r\\n\\t\\t</td>\\r\\n\\t      </tr>\\r\\n          </table>\\r\\n        </div>\\r\\n        \\r\\n          <div id=\"OpenURL\" class=\"block\">\\r\\n            <h3>OpenURL</h3>\\r\\n            <span class=\"Z3988\" title=\"url_ver=Z39.88-2004&amp;url_ctx_fmt=info%3Aofi%2Ffmt%3Akev%3Amtx%3Actx&amp;ctx_ver=Z39.88-2004&amp;ctx_enc=info%3Aofi%2Fenc%3AUTF-8&amp;rft_val_fmt=info%3Aofi%2Ffmt%3Akev%3Amtx%3Ajournal&amp;rft_id=https%3A%2F%2Fciteseerx.ist.psu.edu%2Fviewdoc%2Fsummary%3Fdoi%3D10.1.1.27.7414&amp;rft.atitle=Decision-Theoretic+Planning%3A+Structural+Assumptions+and+Computational+Leverage&amp;rft.jtitle=JOURNAL+OF+ARTIFICIAL+INTELLIGENCE+RESEARCH&amp;rft.date=1999&amp;rft.volume=11&amp;rft.spage=1&amp;rft.epage=94&amp;rft.pages=1--94&amp;rft.genre=article&amp;rft.aulast=Boutilier&amp;rft.aufirst=+Craig&amp;rft.au=Boutilier%2C+Craig&amp;rft.au=Dean%2C+Thomas&amp;rft.au=Hanks%2C+Steve\">&nbsp;</span>\\r\\n          </div>\\r\\n        \\r\\n      </div> \\r\\n      <div id=\"abstract\">\\r\\n        <h3>Abstract</h3>\\r\\n        <p>Planning under uncertainty is a central problem in the study of automated sequential  decision making, and has been addressed by researchers in many different fields, including  AI planning, decision analysis, operations research, control theory and economics. While  the assumptions and perspectives adopted in these areas often differ in substantial ways,  many planning problems of interest to researchers in these fields can be modeled as Markov  decision processes (MDPs) and analyzed using the techniques of decision theory.  This paper presents an overview and synthesis of MDP-related methods, showing how  they provide a unifying framework for modeling many classes of planning problems studied  in AI. It also describes structural properties of MDPs that, when exhibited by particular  classes of problems, can be exploited in the construction of optimal or approximately  optimal policies or plans. Planning problems commonly possess structure in the reward  and value functions used to de...</p>\\r\\n      </div>\\r\\n      <div id=\"keywords\">\\r\\n        \\r\\n          <h3>Keyphrases</h3>\\r\\n          <p>\\r\\n            \\r\\n            <a href=\"/search;jsessionid=D28D6F6A1BE5E5E0D6E0AF350646878A?q=structural assumption&submit=Search&sort=rlv&t=doc\">structural assumption</a>&nbsp;&nbsp;&nbsp;\\r\\n            \\r\\n            <a href=\"/search;jsessionid=D28D6F6A1BE5E5E0D6E0AF350646878A?q=decision-theoretic planning&submit=Search&sort=rlv&t=doc\">decision-theoretic planning</a>&nbsp;&nbsp;&nbsp;\\r\\n            \\r\\n            <a href=\"/search;jsessionid=D28D6F6A1BE5E5E0D6E0AF350646878A?q=computational leverage&submit=Search&sort=rlv&t=doc\">computational leverage</a>&nbsp;&nbsp;&nbsp;\\r\\n            \\r\\n            <a href=\"/search;jsessionid=D28D6F6A1BE5E5E0D6E0AF350646878A?q=central problem&submit=Search&sort=rlv&t=doc\">central problem</a>&nbsp;&nbsp;&nbsp;\\r\\n            \\r\\n            <a href=\"/search;jsessionid=D28D6F6A1BE5E5E0D6E0AF350646878A?q=structural property&submit=Search&sort=rlv&t=doc\">structural property</a>&nbsp;&nbsp;&nbsp;\\r\\n            \\r\\n            <a href=\"/search;jsessionid=D28D6F6A1BE5E5E0D6E0AF350646878A?q=particular class&submit=Search&sort=rlv&t=doc\">particular class</a>&nbsp;&nbsp;&nbsp;\\r\\n            \\r\\n            <a href=\"/search;jsessionid=D28D6F6A1BE5E5E0D6E0AF350646878A?q=decision analysis&submit=Search&sort=rlv&t=doc\">decision analysis</a>&nbsp;&nbsp;&nbsp;\\r\\n            \\r\\n            <a href=\"/search;jsessionid=D28D6F6A1BE5E5E0D6E0AF350646878A?q=unifying framework&submit=Search&sort=rlv&t=doc\">unifying framework</a>&nbsp;&nbsp;&nbsp;\\r\\n            \\r\\n            <a href=\"/search;jsessionid=D28D6F6A1BE5E5E0D6E0AF350646878A?q=ai planning&submit=Search&sort=rlv&t=doc\">ai planning</a>&nbsp;&nbsp;&nbsp;\\r\\n            \\r\\n            <a href=\"/search;jsessionid=D28D6F6A1BE5E5E0D6E0AF350646878A?q=substantial way&submit=Search&sort=rlv&t=doc\">substantial way</a>&nbsp;&nbsp;&nbsp;\\r\\n            \\r\\n            <a href=\"/search;jsessionid=D28D6F6A1BE5E5E0D6E0AF350646878A?q=optimal policy&submit=Search&sort=rlv&t=doc\">optimal policy</a>&nbsp;&nbsp;&nbsp;\\r\\n            \\r\\n            <a href=\"/search;jsessionid=D28D6F6A1BE5E5E0D6E0AF350646878A?q=many class&submit=Search&sort=rlv&t=doc\">many class</a>&nbsp;&nbsp;&nbsp;\\r\\n            \\r\\n            <a href=\"/search;jsessionid=D28D6F6A1BE5E5E0D6E0AF350646878A?q=mdp-related method&submit=Search&sort=rlv&t=doc\">mdp-related method</a>&nbsp;&nbsp;&nbsp;\\r\\n            \\r\\n            <a href=\"/search;jsessionid=D28D6F6A1BE5E5E0D6E0AF350646878A?q=many different field&submit=Search&sort=rlv&t=doc\">many different field</a>&nbsp;&nbsp;&nbsp;\\r\\n            \\r\\n            <a href=\"/search;jsessionid=D28D6F6A1BE5E5E0D6E0AF350646878A?q=decision theory&submit=Search&sort=rlv&t=doc\">decision theory</a>&nbsp;&nbsp;&nbsp;\\r\\n            \\r\\n            <a href=\"/search;jsessionid=D28D6F6A1BE5E5E0D6E0AF350646878A?q=control theory&submit=Search&sort=rlv&t=doc\">control theory</a>&nbsp;&nbsp;&nbsp;\\r\\n            \\r\\n            <a href=\"/search;jsessionid=D28D6F6A1BE5E5E0D6E0AF350646878A?q=operation research&submit=Search&sort=rlv&t=doc\">operation research</a>&nbsp;&nbsp;&nbsp;\\r\\n            \\r\\n            <a href=\"/search;jsessionid=D28D6F6A1BE5E5E0D6E0AF350646878A?q=sequential decision making&submit=Search&sort=rlv&t=doc\">sequential decision making</a>&nbsp;&nbsp;&nbsp;\\r\\n            \\r\\n            <a href=\"/search;jsessionid=D28D6F6A1BE5E5E0D6E0AF350646878A?q=markov decision process&submit=Search&sort=rlv&t=doc\">markov decision process</a>&nbsp;&nbsp;&nbsp;\\r\\n            \\r\\n            <a href=\"/search;jsessionid=D28D6F6A1BE5E5E0D6E0AF350646878A?q=value function&submit=Search&sort=rlv&t=doc\">value function</a>&nbsp;&nbsp;&nbsp;\\r\\n            \\r\\n          </p>\\r\\n        \\r\\n      </div>\\r\\n    </div>\\r\\n  </div>\\r\\n  <div class=\"clear\"></div>\\r\\n</div>\\r\\n\\r\\n  <div id=\"footer\">\\n  \\t<div id=\"sponsors\">\\n        \\n        Powered by:\\n  \\t<a href=\"http://lucene.apache.org/solr/\"><img src=\"/images/solrlogo1.png;jsessionid=D28D6F6A1BE5E5E0D6E0AF350646878A\" alt=\"Apache Solr\" height=\"8%\" width=\"8%\"/></a>\\n  \\t</div>\\n    <ul class=\"links\">\\n      <li><a href=\"http://csxstatic.ist.psu.edu/home\" target=\"_blank\">About CiteSeerX</a></li>\\n      <li><a href=\"http://csxcrawlweb01.ist.psu.edu/submit_pub/\" target=\"_blank\">Submit and Index Documents</a></li>\\n      <li><a href=\"http://csxstatic.ist.psu.edu/privacy-policy\" target=\"_blank\">Privacy Policy</a></li>\\n      <li><a href=\"http://csxstatic.ist.psu.edu/help\" target=\"_blank\">Help</a></li>\\n      <li><a href=\"http://csxstatic.ist.psu.edu/downloads/data\" target=\"_blank\">Data</a></li>      \\n      <li><a href=\"https://github.com/SeerLabs/CiteSeerX\" target=\"_blank\">Source</a></li>      \\n      <li><a href=\"http://csxstatic.ist.psu.edu/contact\" target=\"_blank\">Contact Us</a></li>\\n    </ul>\\n  \\t<p class=\"info\">Developed at and hosted by <a href=\"http://ist.psu.edu\">The College of Information Sciences and Technology</a></p>\\n  \\t<p>&copy; 2007-2019 <a href=\"http://www.psu.edu\">The Pennsylvania State University</a></p>\\n  </div>\\n</div> \\n\\n</body>\\n</html>\\n\\r\\n'\n"
          ],
          "name": "stdout"
        }
      ]
    },
    {
      "cell_type": "code",
      "metadata": {
        "id": "ISckVwb81fLK"
      },
      "source": [
        "soup = BeautifulSoup(src, 'html.parser')\n",
        "#since the url seems to be an XML file, so I use \"lxml' parsing here\""
      ],
      "execution_count": 10,
      "outputs": []
    },
    {
      "cell_type": "code",
      "metadata": {
        "id": "0ED_8YYq8tWZ"
      },
      "source": [
        "#let's find some tags"
      ],
      "execution_count": 11,
      "outputs": []
    },
    {
      "cell_type": "code",
      "metadata": {
        "colab": {
          "base_uri": "https://localhost:8080/"
        },
        "id": "32-2yDu_I4SJ",
        "outputId": "3ba32048-0ba6-466d-f258-5103c0b50abb"
      },
      "source": [
        "soup.contents"
      ],
      "execution_count": 12,
      "outputs": [
        {
          "output_type": "execute_result",
          "data": {
            "text/plain": [
              "['\\n',\n",
              " 'html PUBLIC \"-//W3C//DTD XHTML 1.0 Transitional//EN\"\\r\\n\"http://www.w3.org/TR/xhtml1/DTD/xhtml1-transitional.dtd\"',\n",
              " '\\n',\n",
              " <html lang=\"en\" xml:lang=\"en\" xmlns=\"http://www.w3.org/1999/xhtml\">\n",
              " <head profile=\"http://www.w3.org/2005/11/profile http://a9.com/-/spec/opensearch/1.1/\">\n",
              " <meta content=\"text/html; charset=utf-8\" http-equiv=\"Content-Type\"/>\n",
              " <meta content=\"/images/csx_logo_front.png\" property=\"og:image\"/>\n",
              " <title>CiteSeerX — Decision-Theoretic Planning: Structural Assumptions and Computational Leverage</title>\n",
              " <meta content=\"CiteSeerX - Document Details (Isaac Councill, Lee Giles, Pradeep Teregowda): Planning under uncertainty is a central problem in the study of automated sequential  decision making, and has been addressed by researchers in many different fields, including  AI planning, decision analysis, operations research, control theory and economics. While  the assumptions and perspectives adopted in these areas often differ in substantial ways,  many planning problems of interest to researchers in these fields can be modeled as Markov  decision processes (MDPs) and analyzed using the techniques of decision theory.  This paper presents an overview and synthesis of MDP-related methods, showing how  they provide a unifying framework for modeling many classes of planning problems studied  in AI. It also describes structural properties of MDPs that, when exhibited by particular  classes of problems, can be exploited in the construction of optimal or approximately  optimal policies or plans. Planning problems commonly possess structure in the reward  and value functions used to de...\" name=\"description\"/>\n",
              " <meta content=\"CiteSeerX, Craig Boutilier, Thomas Dean, Steve Hanks\" name=\"keywords\"/>\n",
              " <meta content=\"Decision-Theoretic Planning: Structural Assumptions and Computational Leverage\" name=\"citation_title\"/>\n",
              " <meta content=\"Craig Boutilier, Thomas Dean, Steve Hanks\" name=\"citation_authors\"/>\n",
              " <meta content=\"1999\" name=\"citation_year\"/>\n",
              " <meta content=\"JOURNAL OF ARTIFICIAL INTELLIGENCE RESEARCH\" name=\"citation_conference\"/>\n",
              " <link href=\"/favicon.ico;jsessionid=D28D6F6A1BE5E5E0D6E0AF350646878A\" rel=\"shortcut icon\" type=\"image/x-icon\"/>\n",
              " <link href=\"/search_plugins/citeseerx_general.xml;jsessionid=D28D6F6A1BE5E5E0D6E0AF350646878A\" rel=\"search\" title=\"CiteSeerX\" type=\"application/opensearchdescription+xml\"/>\n",
              " <link href=\"/search_plugins/citeseerx_author.xml;jsessionid=D28D6F6A1BE5E5E0D6E0AF350646878A\" rel=\"search\" title=\"CiteSeerX Author\" type=\"application/opensearchdescription+xml\"/>\n",
              " <link href=\"/search_plugins/citeseerx_title.xml;jsessionid=D28D6F6A1BE5E5E0D6E0AF350646878A\" rel=\"search\" title=\"CiteSeerX Title\" type=\"application/opensearchdescription+xml\"/>\n",
              " <link href=\"/search;jsessionid=D28D6F6A1BE5E5E0D6E0AF350646878A?\" rel=\"alternate\" title=\"CiteSeerX Search Results - Atom\" type=\"application/atom+xml\"/>\n",
              " <link href=\"/search;jsessionid=D28D6F6A1BE5E5E0D6E0AF350646878A?\" rel=\"alternate\" title=\"CiteSeerX Search Results - RSS\" type=\"application/rss+xml\"/>\n",
              " <link href=\"/css/main.css;jsessionid=D28D6F6A1BE5E5E0D6E0AF350646878A\" rel=\"stylesheet\" type=\"text/css\"/>\n",
              " <script src=\"/js/jquery-1.4.2.min.js;jsessionid=D28D6F6A1BE5E5E0D6E0AF350646878A\" type=\"text/javascript\"></script>\n",
              " <script src=\"/js/jquery-ui-1.8.custom.min.js;jsessionid=D28D6F6A1BE5E5E0D6E0AF350646878A\" type=\"text/javascript\"></script>\n",
              " <script src=\"/js/jquery.idTabs.min.js;jsessionid=D28D6F6A1BE5E5E0D6E0AF350646878A\" type=\"text/javascript\"></script>\n",
              " <script src=\"/js/metacart.js;jsessionid=D28D6F6A1BE5E5E0D6E0AF350646878A\" type=\"text/javascript\"></script>\n",
              " <script src=\"/js/topnav.js;jsessionid=D28D6F6A1BE5E5E0D6E0AF350646878A\" type=\"text/javascript\"></script>\n",
              " <script src=\"/js/citeseerx.js;jsessionid=D28D6F6A1BE5E5E0D6E0AF350646878A\" type=\"text/javascript\"></script>\n",
              " <script src=\"/js/correctionutils.js;jsessionid=D28D6F6A1BE5E5E0D6E0AF350646878A\" type=\"text/javascript\"></script>\n",
              " <script src=\"/js/checkboxes.js;jsessionid=D28D6F6A1BE5E5E0D6E0AF350646878A\" type=\"text/javascript\"></script>\n",
              " <script src=\"/js/ga.js;jsessionid=D28D6F6A1BE5E5E0D6E0AF350646878A\" type=\"text/javascript\"></script>\n",
              " <script src=\"/js/s2button.js;jsessionid=D28D6F6A1BE5E5E0D6E0AF350646878A\" type=\"text/javascript\"></script>\n",
              " </head>\n",
              " <body>\n",
              " <div id=\"wrapper\">\n",
              " <div id=\"topnav\">\n",
              " <ul id=\"search_nav\">\n",
              " <li class=\"active\"><a href=\"#search_docs\">Documents</a></li>\n",
              " <li><a href=\"/#search_auth\">Authors</a></li>\n",
              " <li><a href=\"/#search_tables\">Tables</a></li>\n",
              " </ul>\n",
              " <ul id=\"toptools\">\n",
              " <li><a href=\"/myciteseer/login;jsessionid=D28D6F6A1BE5E5E0D6E0AF350646878A\">Log in</a></li>\n",
              " <li><a href=\"/mcsutils/newAccount;jsessionid=D28D6F6A1BE5E5E0D6E0AF350646878A\">Sign up</a></li>\n",
              " <li><a href=\"/metacart;jsessionid=D28D6F6A1BE5E5E0D6E0AF350646878A\">MetaCart</a></li>\n",
              " <li><a href=\"https://www.psu.edu/copyright-information/\" target=\"_blank\">DMCA</a></li>\n",
              " <li><a href=\"http://www.givenow.psu.edu/CiteseerxFund\"><font color=\"#045FB4\">Donate</font></a></li>\n",
              " </ul>\n",
              " </div>\n",
              " <div id=\"header\">\n",
              " <h1 id=\"title\"><a href=\"/;jsessionid=D28D6F6A1BE5E5E0D6E0AF350646878A\" title=\"CiteSeerX\"><img alt=\"CiteSeerX logo\" height=\"50%\" src=\"/images/csx_logo.png;jsessionid=D28D6F6A1BE5E5E0D6E0AF350646878A\" width=\"50%\"/></a></h1>\n",
              " </div>\n",
              " <div id=\"main\">\n",
              " <div id=\"search\">\n",
              " <div id=\"search_docs\">\n",
              " <form action=\"/search;jsessionid=D28D6F6A1BE5E5E0D6E0AF350646878A\" enctype=\"application/x-www-form-urlencoded\" method=\"get\">\n",
              " <label>Documents:</label>\n",
              " <input class=\"s_field\" name=\"q\" type=\"text\" value=\"\"/>\n",
              " <input alt=\"Search\" class=\"s_button\" name=\"submit\" src=\"/images/search_icon.png;jsessionid=D28D6F6A1BE5E5E0D6E0AF350646878A\" type=\"image\" value=\"Search\"/>\n",
              " <input alt=\"Semantic Scholar\" class=\"s_button\" name=\"s2\" src=\"/images/s2_icon.png;jsessionid=D28D6F6A1BE5E5E0D6E0AF350646878A\" type=\"image\" value=\"Semantic Scholar\"/>\n",
              " <div class=\"opts\">\n",
              " <a href=\"/advanced_search;jsessionid=D28D6F6A1BE5E5E0D6E0AF350646878A\" title=\"Search full text, title, abstract, date, author name, author affiliation, etc.\">Advanced Search</a>\n",
              " <input class=\"c_box\" name=\"ic\" type=\"checkbox\" value=\"1\"/> Include Citations\n",
              "         </div>\n",
              " <input name=\"sort\" type=\"hidden\" value=\"rlv\"/>\n",
              " <input name=\"t\" type=\"hidden\" value=\"doc\"/>\n",
              " </form>\n",
              " </div>\n",
              " <div id=\"search_auth\">\n",
              " <form action=\"/search;jsessionid=D28D6F6A1BE5E5E0D6E0AF350646878A\" enctype=\"application/x-www-form-urlencoded\" method=\"get\">\n",
              " <label>Authors:</label>\n",
              " <input class=\"s_field\" name=\"q\" type=\"text\" value=\"\"/>\n",
              " <input alt=\"Search\" class=\"s_button\" name=\"submit\" type=\"submit\" value=\"Search\"/>\n",
              " <div class=\"opts\">\n",
              " <a href=\"/advanced_search;jsessionid=D28D6F6A1BE5E5E0D6E0AF350646878A\" title=\"Search full text, title, abstract, date, author name, author affiliation, etc.\">Advanced Search</a>\n",
              " <input class=\"c_box\" name=\"ic\" type=\"checkbox\" value=\"1\"/> Include Citations \n",
              "           \n",
              "         </div>\n",
              " <input name=\"uauth\" type=\"hidden\" value=\"1\"/>\n",
              " <input name=\"sort\" type=\"hidden\" value=\"ndocs\"/>\n",
              " <input name=\"t\" type=\"hidden\" value=\"auth\"/>\n",
              " </form>\n",
              " </div>\n",
              " <div id=\"search_tables\">\n",
              " <form action=\"/search;jsessionid=D28D6F6A1BE5E5E0D6E0AF350646878A\" enctype=\"application/x-www-form-urlencoded\" method=\"get\">\n",
              " <label>Tables:</label>\n",
              " <input class=\"s_field\" name=\"q\" type=\"text\" value=\"\"/>\n",
              " <input alt=\"Search\" class=\"s_button\" name=\"submit\" type=\"submit\" value=\"Search\"/>\n",
              " <input name=\"t\" type=\"hidden\" value=\"table\"/>\n",
              " <input name=\"sort\" type=\"hidden\" value=\"rlv\"/>\n",
              " </form>\n",
              " </div>\n",
              " </div>\n",
              " <div class=\"viewDoc\" id=\"viewHeader\">\n",
              " <h4 id=\"DMCA\" style=\"float: right;\"><a href=\"https://www.psu.edu/copyright-information/\" title=\"DMCA\">DMCA</a></h4>\n",
              " <h2>Decision-Theoretic Planning: Structural Assumptions and Computational Leverage  (1999) </h2>\n",
              " <div id=\"downloads\">\n",
              " <h3>Cached</h3>\n",
              " <ul id=\"clinks\">\n",
              " <li><a href=\"/viewdoc/download;jsessionid=D28D6F6A1BE5E5E0D6E0AF350646878A?doi=10.1.1.27.7414&amp;rep=rep1&amp;type=pdf\" title=\"View or Download this document as PDF\">\n",
              " <img alt=\"Download as a PDF\" src=\"/images/pdf_icon.png;jsessionid=D28D6F6A1BE5E5E0D6E0AF350646878A\"/>\n",
              " </a></li>\n",
              " </ul>\n",
              " <h3>Download Links</h3>\n",
              " <ul id=\"dlinks\">\n",
              " <li>\n",
              " <a escapexml=\"true\" href=\"ftp://ftp.mrg.dist.unige.it/pub/jair/pub/volume11/boutilier99a.ps\" title=\"ftp://ftp.mrg.dist.unige.it/pub/jair/pub/volume11/boutilier99a.ps\">\n",
              "               [ftp.mrg.dist.unige.it]\n",
              "             </a>\n",
              " </li>\n",
              " <li>\n",
              " <a escapexml=\"true\" href=\"http://www.isi.edu/~blythe/cs541/Readings/boutilier-etal-jair99.ps\" title=\"http://www.isi.edu/~blythe/cs541/Readings/boutilier-etal-jair99.ps\">\n",
              "               [www.isi.edu]\n",
              "             </a>\n",
              " </li>\n",
              " <li>\n",
              " <a escapexml=\"true\" href=\"http://www.cs.cmu.edu/afs/cs/project/jair/pub/volume11/boutilier99a.pdf\" title=\"http://www.cs.cmu.edu/afs/cs/project/jair/pub/volume11/boutilier99a.pdf\">\n",
              "               [www.cs.cmu.edu]\n",
              "             </a>\n",
              " </li>\n",
              " <li>\n",
              " <a escapexml=\"true\" href=\"http://www.eecs.harvard.edu/~avi/CS281r/F06/Papers/boutilier-et-al-mdp.pdf\" title=\"http://www.eecs.harvard.edu/~avi/CS281r/F06/Papers/boutilier-et-al-mdp.pdf\">\n",
              "               [www.eecs.harvard.edu]\n",
              "             </a>\n",
              " </li>\n",
              " <li>\n",
              " <a escapexml=\"true\" href=\"http://jair.org/media/575/live-575-1777-jair.pdf\" title=\"http://jair.org/media/575/live-575-1777-jair.pdf\">\n",
              "               [jair.org]\n",
              "             </a>\n",
              " </li>\n",
              " <li>\n",
              " <a escapexml=\"true\" href=\"http://www.jair.org/media/575/live-575-1777-jair.pdf\" title=\"http://www.jair.org/media/575/live-575-1777-jair.pdf\">\n",
              "               [www.jair.org]\n",
              "             </a>\n",
              " </li>\n",
              " <li>\n",
              " <a escapexml=\"true\" href=\"http://www.cs.brown.edu/people/tld/publications/archive/BoutilieretalJAIR-99.pdf\" title=\"http://www.cs.brown.edu/people/tld/publications/archive/BoutilieretalJAIR-99.pdf\">\n",
              "               [www.cs.brown.edu]\n",
              "             </a>\n",
              " </li>\n",
              " <li>\n",
              " <a escapexml=\"true\" href=\"http://cs.brown.edu/people/tld/publications/archive/BoutilieretalJAIR-99.pdf\" title=\"http://cs.brown.edu/people/tld/publications/archive/BoutilieretalJAIR-99.pdf\">\n",
              "               [cs.brown.edu]\n",
              "             </a>\n",
              " </li>\n",
              " <li>\n",
              " <a escapexml=\"true\" href=\"http://arxiv.org/pdf/1105.5460.pdf\" title=\"http://arxiv.org/pdf/1105.5460.pdf\">\n",
              "               [arxiv.org]\n",
              "             </a>\n",
              " </li>\n",
              " <br/>\n",
              " <h3>Other Repositories/Bibliography</h3>\n",
              " <li><a href=\"/viewdoc/redirect;jsessionid=D28D6F6A1BE5E5E0D6E0AF350646878A?doi=10.1.1.27.7414&amp;label=DBLP\" title=\"DBLP\">\n",
              "           DBLP</a></li>\n",
              " </ul>\n",
              " </div>\n",
              " <div id=\"docTools\">\n",
              " <ul class=\"button_nav\">\n",
              " <li><a onclick=\"addToCartProxy(62146)\" style=\"cursor: pointer;\">Save to List</a>\n",
              " <span class=\"cartmsg\" id=\"cmsg_62146\"></span></li>\n",
              " <li><a class=\"remove\" href=\"/myciteseer/action/addPaperCollection;jsessionid=D28D6F6A1BE5E5E0D6E0AF350646878A?doi=10.1.1.27.7414\" title=\"Add this document to your collection (Account required)\">Add to Collection</a></li>\n",
              " <li><a class=\"remove\" href=\"/correct;jsessionid=D28D6F6A1BE5E5E0D6E0AF350646878A?doi=10.1.1.27.7414\" title=\"Submit corrections for this document (Account required)\">Correct Errors</a></li>\n",
              " <li><a class=\"remove\" href=\"/myciteseer/action/editMonitors;jsessionid=D28D6F6A1BE5E5E0D6E0AF350646878A?doi=10.1.1.27.7414\" title=\"Monitor changes to this document (Account required)\">Monitor Changes</a></li>\n",
              " </ul>\n",
              " </div>\n",
              " <div id=\"docInfo\">\n",
              " <div id=\"docAuthors\">\n",
              "         by \n",
              "         \n",
              "           \n",
              "             \n",
              "             \n",
              "               Craig Boutilier\n",
              "             \n",
              "             ,\n",
              "           \n",
              "             \n",
              "             \n",
              "               Thomas Dean\n",
              "             \n",
              "             ,\n",
              "           \n",
              "             \n",
              "             \n",
              "               Steve Hanks\n",
              "             \n",
              "             \n",
              "           \n",
              "         \n",
              "       </div>\n",
              " <div id=\"docOther\">\n",
              " <table>\n",
              " <tr id=\"docVenue\"><td class=\"title\">Venue:</td><td>JOURNAL OF ARTIFICIAL INTELLIGENCE RESEARCH</td>\n",
              " <tr id=\"docCites\"><td class=\"title\">Citations:</td><td><a href=\"/showciting;jsessionid=D28D6F6A1BE5E5E0D6E0AF350646878A?doi=10.1.1.27.7414\" title=\"number of citations\">514 - 4 self</a>\n",
              " </td></tr>\n",
              " </tr></table>\n",
              " </div>\n",
              " </div>\n",
              " <div class=\"clear\"></div>\n",
              " </div>\n",
              " <div class=\"submenu\" id=\"docMenu\">\n",
              " <ul>\n",
              " <li class=\"active\"><a href=\"/viewdoc/summary;jsessionid=D28D6F6A1BE5E5E0D6E0AF350646878A?doi=10.1.1.27.7414\">Summary</a></li>\n",
              " <li><a href=\"/viewdoc/citations;jsessionid=D28D6F6A1BE5E5E0D6E0AF350646878A?doi=10.1.1.27.7414\">Citations</a></li>\n",
              " <li><a href=\"/viewdoc/similar;jsessionid=D28D6F6A1BE5E5E0D6E0AF350646878A?doi=10.1.1.27.7414&amp;type=ab\" title=\"Documents that cite the same works\">Active Bibliography</a></li>\n",
              " <li><a href=\"/viewdoc/similar;jsessionid=D28D6F6A1BE5E5E0D6E0AF350646878A?doi=10.1.1.27.7414&amp;type=cc\" title=\"Documents cited by the same works\">Co-citation</a></li>\n",
              " <li><a href=\"/viewdoc/similar;jsessionid=D28D6F6A1BE5E5E0D6E0AF350646878A?doi=10.1.1.27.7414&amp;type=sc\" title=\"Documents in the Same Cluster\">Clustered Documents</a></li>\n",
              " <li><a href=\"/viewdoc/versions;jsessionid=D28D6F6A1BE5E5E0D6E0AF350646878A?doi=10.1.1.27.7414\">Version History</a></li>\n",
              " <!--<li><a  href=\"/viewdoc/clustered;jsessionid=D28D6F6A1BE5E5E0D6E0AF350646878A?doi=10.1.1.27.7414\">Clustered Documents</a></li>-->\n",
              " </ul>\n",
              " </div>\n",
              " <div class=\"sidebar\" id=\"viewContent\">\n",
              " <div id=\"viewContent-inner\">\n",
              " <div id=\"viewSidebar\">\n",
              " <div class=\"block\" id=\"bibtex\">\n",
              " <h3>BibTeX</h3>\n",
              " <p>@ARTICLE{Boutilier99decision-theoreticplanning:,<br/>    author = {Craig Boutilier and Thomas Dean and Steve Hanks},<br/>    title = {Decision-Theoretic Planning: Structural Assumptions and Computational Leverage},<br/>    journal = {JOURNAL OF ARTIFICIAL INTELLIGENCE RESEARCH},<br/>    year = {1999},<br/>    volume = {11},<br/>    pages = {1--94}<br/>}<br/></p>\n",
              " </div> <!-- End content box -->\n",
              " <div class=\"block\" id=\"bookmark\">\n",
              " <h3>Share</h3>\n",
              " <table border=\"0\" cellpadding=\"5\" cellspacing=\"0\">\n",
              " <tr>\n",
              " <td><a href=\"/viewdoc/bookmark;jsessionid=D28D6F6A1BE5E5E0D6E0AF350646878A?doi=10.1.1.27.7414&amp;title=Decision-Theoretic Planning: Structural Assumptions and Computational Leverage&amp;site=facebook\" title=\"Facebook\"><img alt=\"Facebook\" src=\"/images/facebook_icon.png;jsessionid=D28D6F6A1BE5E5E0D6E0AF350646878A\"/></a></td>\n",
              " <td><a href=\"/viewdoc/bookmark;jsessionid=D28D6F6A1BE5E5E0D6E0AF350646878A?doi=10.1.1.27.7414&amp;title=Decision-Theoretic Planning: Structural Assumptions and Computational Leverage&amp;site=twitter\" title=\"Twitter\"><img alt=\"Twitter\" src=\"/images/twitter_icon.png;jsessionid=D28D6F6A1BE5E5E0D6E0AF350646878A\"/></a></td>\n",
              " <td><a href=\"/viewdoc/bookmark;jsessionid=D28D6F6A1BE5E5E0D6E0AF350646878A?doi=10.1.1.27.7414&amp;title=Decision-Theoretic Planning: Structural Assumptions and Computational Leverage&amp;site=reddit\" title=\"Reddit\"><img alt=\"Reddit\" src=\"/images/reddit_icon.png;jsessionid=D28D6F6A1BE5E5E0D6E0AF350646878A\"/></a></td>\n",
              " <td><a href=\"/viewdoc/bookmark;jsessionid=D28D6F6A1BE5E5E0D6E0AF350646878A?doi=10.1.1.27.7414&amp;site=bibsonomy&amp;title=Decision-Theoretic Planning: Structural Assumptions and Computational Leverage\" title=\"BibSonomy\"><img alt=\"Bibsonomy\" src=\"/images/bibsonomy_icon.png;jsessionid=D28D6F6A1BE5E5E0D6E0AF350646878A\"/></a></td>\n",
              " </tr>\n",
              " <tr>\n",
              " <td colspan=\"6\">\n",
              " <script src=\"http://widgets.twimg.com/j/2/widget.js\"></script>\n",
              " <script>\n",
              " \t\t\tvar doi;\n",
              " \t\t\tdoi=\"10.1.1.27.7414\";\n",
              " \t\t\tnew TWTR.Widget({\n",
              "   \t\t\tversion: 2,\n",
              "   \t\t\ttype: 'search',\n",
              "   \t\t\tsearch: 'citeseerx+'+doi,\n",
              "   \t\t\tinterval: 30000,\n",
              "   \t\t\ttitle: 'CiteSeerX',\n",
              "   \t\t\tsubject: doi,\n",
              "   \t\t\twidth: 255,\n",
              "   \t\t\theight: 30,\n",
              "   \t\t\ttheme: {\n",
              "     \t\t\tshell: {\n",
              "       \t\t\tbackground: '#E6E6E6',\n",
              "       \t\t\tcolor: '#000000'\n",
              "     \t\t\t},\n",
              "     \t\t\ttweets: {\n",
              "       \t\t\t\tbackground: '#ffffff',\n",
              "       \t\t\t\tcolor: '#444444',\n",
              "       \t\t\t\tlinks: '#1985b5'\n",
              "     \t\t\t}\n",
              "   \t\t},\n",
              "   \t\tfeatures: {\n",
              "     \t\tscrollbar: false,\n",
              "     \t\tloop: true,\n",
              "     \t\tlive: true,\n",
              "     \t\tbehavior: 'default'\n",
              "  \t\t }\n",
              " \t\t}).render().start();\n",
              " \t\t</script>\n",
              " </td>\n",
              " </tr>\n",
              " </table>\n",
              " </div>\n",
              " <div class=\"block\" id=\"OpenURL\">\n",
              " <h3>OpenURL</h3>\n",
              " <span class=\"Z3988\" title=\"url_ver=Z39.88-2004&amp;url_ctx_fmt=info%3Aofi%2Ffmt%3Akev%3Amtx%3Actx&amp;ctx_ver=Z39.88-2004&amp;ctx_enc=info%3Aofi%2Fenc%3AUTF-8&amp;rft_val_fmt=info%3Aofi%2Ffmt%3Akev%3Amtx%3Ajournal&amp;rft_id=https%3A%2F%2Fciteseerx.ist.psu.edu%2Fviewdoc%2Fsummary%3Fdoi%3D10.1.1.27.7414&amp;rft.atitle=Decision-Theoretic+Planning%3A+Structural+Assumptions+and+Computational+Leverage&amp;rft.jtitle=JOURNAL+OF+ARTIFICIAL+INTELLIGENCE+RESEARCH&amp;rft.date=1999&amp;rft.volume=11&amp;rft.spage=1&amp;rft.epage=94&amp;rft.pages=1--94&amp;rft.genre=article&amp;rft.aulast=Boutilier&amp;rft.aufirst=+Craig&amp;rft.au=Boutilier%2C+Craig&amp;rft.au=Dean%2C+Thomas&amp;rft.au=Hanks%2C+Steve\"> </span>\n",
              " </div>\n",
              " </div>\n",
              " <div id=\"abstract\">\n",
              " <h3>Abstract</h3>\n",
              " <p>Planning under uncertainty is a central problem in the study of automated sequential  decision making, and has been addressed by researchers in many different fields, including  AI planning, decision analysis, operations research, control theory and economics. While  the assumptions and perspectives adopted in these areas often differ in substantial ways,  many planning problems of interest to researchers in these fields can be modeled as Markov  decision processes (MDPs) and analyzed using the techniques of decision theory.  This paper presents an overview and synthesis of MDP-related methods, showing how  they provide a unifying framework for modeling many classes of planning problems studied  in AI. It also describes structural properties of MDPs that, when exhibited by particular  classes of problems, can be exploited in the construction of optimal or approximately  optimal policies or plans. Planning problems commonly possess structure in the reward  and value functions used to de...</p>\n",
              " </div>\n",
              " <div id=\"keywords\">\n",
              " <h3>Keyphrases</h3>\n",
              " <p>\n",
              " <a href=\"/search;jsessionid=D28D6F6A1BE5E5E0D6E0AF350646878A?q=structural assumption&amp;submit=Search&amp;sort=rlv&amp;t=doc\">structural assumption</a>   \n",
              "             \n",
              "             <a href=\"/search;jsessionid=D28D6F6A1BE5E5E0D6E0AF350646878A?q=decision-theoretic planning&amp;submit=Search&amp;sort=rlv&amp;t=doc\">decision-theoretic planning</a>   \n",
              "             \n",
              "             <a href=\"/search;jsessionid=D28D6F6A1BE5E5E0D6E0AF350646878A?q=computational leverage&amp;submit=Search&amp;sort=rlv&amp;t=doc\">computational leverage</a>   \n",
              "             \n",
              "             <a href=\"/search;jsessionid=D28D6F6A1BE5E5E0D6E0AF350646878A?q=central problem&amp;submit=Search&amp;sort=rlv&amp;t=doc\">central problem</a>   \n",
              "             \n",
              "             <a href=\"/search;jsessionid=D28D6F6A1BE5E5E0D6E0AF350646878A?q=structural property&amp;submit=Search&amp;sort=rlv&amp;t=doc\">structural property</a>   \n",
              "             \n",
              "             <a href=\"/search;jsessionid=D28D6F6A1BE5E5E0D6E0AF350646878A?q=particular class&amp;submit=Search&amp;sort=rlv&amp;t=doc\">particular class</a>   \n",
              "             \n",
              "             <a href=\"/search;jsessionid=D28D6F6A1BE5E5E0D6E0AF350646878A?q=decision analysis&amp;submit=Search&amp;sort=rlv&amp;t=doc\">decision analysis</a>   \n",
              "             \n",
              "             <a href=\"/search;jsessionid=D28D6F6A1BE5E5E0D6E0AF350646878A?q=unifying framework&amp;submit=Search&amp;sort=rlv&amp;t=doc\">unifying framework</a>   \n",
              "             \n",
              "             <a href=\"/search;jsessionid=D28D6F6A1BE5E5E0D6E0AF350646878A?q=ai planning&amp;submit=Search&amp;sort=rlv&amp;t=doc\">ai planning</a>   \n",
              "             \n",
              "             <a href=\"/search;jsessionid=D28D6F6A1BE5E5E0D6E0AF350646878A?q=substantial way&amp;submit=Search&amp;sort=rlv&amp;t=doc\">substantial way</a>   \n",
              "             \n",
              "             <a href=\"/search;jsessionid=D28D6F6A1BE5E5E0D6E0AF350646878A?q=optimal policy&amp;submit=Search&amp;sort=rlv&amp;t=doc\">optimal policy</a>   \n",
              "             \n",
              "             <a href=\"/search;jsessionid=D28D6F6A1BE5E5E0D6E0AF350646878A?q=many class&amp;submit=Search&amp;sort=rlv&amp;t=doc\">many class</a>   \n",
              "             \n",
              "             <a href=\"/search;jsessionid=D28D6F6A1BE5E5E0D6E0AF350646878A?q=mdp-related method&amp;submit=Search&amp;sort=rlv&amp;t=doc\">mdp-related method</a>   \n",
              "             \n",
              "             <a href=\"/search;jsessionid=D28D6F6A1BE5E5E0D6E0AF350646878A?q=many different field&amp;submit=Search&amp;sort=rlv&amp;t=doc\">many different field</a>   \n",
              "             \n",
              "             <a href=\"/search;jsessionid=D28D6F6A1BE5E5E0D6E0AF350646878A?q=decision theory&amp;submit=Search&amp;sort=rlv&amp;t=doc\">decision theory</a>   \n",
              "             \n",
              "             <a href=\"/search;jsessionid=D28D6F6A1BE5E5E0D6E0AF350646878A?q=control theory&amp;submit=Search&amp;sort=rlv&amp;t=doc\">control theory</a>   \n",
              "             \n",
              "             <a href=\"/search;jsessionid=D28D6F6A1BE5E5E0D6E0AF350646878A?q=operation research&amp;submit=Search&amp;sort=rlv&amp;t=doc\">operation research</a>   \n",
              "             \n",
              "             <a href=\"/search;jsessionid=D28D6F6A1BE5E5E0D6E0AF350646878A?q=sequential decision making&amp;submit=Search&amp;sort=rlv&amp;t=doc\">sequential decision making</a>   \n",
              "             \n",
              "             <a href=\"/search;jsessionid=D28D6F6A1BE5E5E0D6E0AF350646878A?q=markov decision process&amp;submit=Search&amp;sort=rlv&amp;t=doc\">markov decision process</a>   \n",
              "             \n",
              "             <a href=\"/search;jsessionid=D28D6F6A1BE5E5E0D6E0AF350646878A?q=value function&amp;submit=Search&amp;sort=rlv&amp;t=doc\">value function</a>   \n",
              "             \n",
              "           </p>\n",
              " </div>\n",
              " </div>\n",
              " </div>\n",
              " <div class=\"clear\"></div>\n",
              " </div>\n",
              " <div id=\"footer\">\n",
              " <div id=\"sponsors\">\n",
              "         \n",
              "         Powered by:\n",
              "   \t<a href=\"http://lucene.apache.org/solr/\"><img alt=\"Apache Solr\" height=\"8%\" src=\"/images/solrlogo1.png;jsessionid=D28D6F6A1BE5E5E0D6E0AF350646878A\" width=\"8%\"/></a>\n",
              " </div>\n",
              " <ul class=\"links\">\n",
              " <li><a href=\"http://csxstatic.ist.psu.edu/home\" target=\"_blank\">About CiteSeerX</a></li>\n",
              " <li><a href=\"http://csxcrawlweb01.ist.psu.edu/submit_pub/\" target=\"_blank\">Submit and Index Documents</a></li>\n",
              " <li><a href=\"http://csxstatic.ist.psu.edu/privacy-policy\" target=\"_blank\">Privacy Policy</a></li>\n",
              " <li><a href=\"http://csxstatic.ist.psu.edu/help\" target=\"_blank\">Help</a></li>\n",
              " <li><a href=\"http://csxstatic.ist.psu.edu/downloads/data\" target=\"_blank\">Data</a></li>\n",
              " <li><a href=\"https://github.com/SeerLabs/CiteSeerX\" target=\"_blank\">Source</a></li>\n",
              " <li><a href=\"http://csxstatic.ist.psu.edu/contact\" target=\"_blank\">Contact Us</a></li>\n",
              " </ul>\n",
              " <p class=\"info\">Developed at and hosted by <a href=\"http://ist.psu.edu\">The College of Information Sciences and Technology</a></p>\n",
              " <p>© 2007-2019 <a href=\"http://www.psu.edu\">The Pennsylvania State University</a></p>\n",
              " </div>\n",
              " </div>\n",
              " </body>\n",
              " </html>,\n",
              " '\\n']"
            ]
          },
          "metadata": {
            "tags": []
          },
          "execution_count": 12
        }
      ]
    },
    {
      "cell_type": "code",
      "metadata": {
        "colab": {
          "base_uri": "https://localhost:8080/"
        },
        "id": "IgqC89wMI4SK",
        "outputId": "907846ec-6e69-44d6-e216-ab59a29c48b6"
      },
      "source": [
        "#locate the \"citations\" value by 'td' tag. it always on the 4th one in the list\n",
        "print(soup.find_all('td')[3])"
      ],
      "execution_count": 13,
      "outputs": [
        {
          "output_type": "stream",
          "text": [
            "<td><a href=\"/showciting;jsessionid=D28D6F6A1BE5E5E0D6E0AF350646878A?doi=10.1.1.27.7414\" title=\"number of citations\">514 - 4 self</a>\n",
            "</td>\n"
          ],
          "name": "stdout"
        }
      ]
    },
    {
      "cell_type": "code",
      "metadata": {
        "id": "EOcco9f0I4SK"
      },
      "source": [
        "#  or we can locate the \"citations\" value by 'a' tag as well"
      ],
      "execution_count": 14,
      "outputs": []
    },
    {
      "cell_type": "code",
      "metadata": {
        "id": "JWoDvUvPI4SK"
      },
      "source": [
        ""
      ],
      "execution_count": 14,
      "outputs": []
    },
    {
      "cell_type": "code",
      "metadata": {
        "id": "e-PNTYiyI4SL"
      },
      "source": [
        ""
      ],
      "execution_count": 14,
      "outputs": []
    },
    {
      "cell_type": "code",
      "metadata": {
        "id": "-lhZkLE4-zP5"
      },
      "source": [
        "soup_a = soup.find_all('a')"
      ],
      "execution_count": 15,
      "outputs": []
    },
    {
      "cell_type": "code",
      "metadata": {
        "colab": {
          "base_uri": "https://localhost:8080/"
        },
        "id": "ZvQTz5CKI4SL",
        "outputId": "bdc1f093-8031-4e97-9251-85abb0b52422"
      },
      "source": [
        "for i in soup_a:\n",
        "    print(i)"
      ],
      "execution_count": 16,
      "outputs": [
        {
          "output_type": "stream",
          "text": [
            "<a href=\"#search_docs\">Documents</a>\n",
            "<a href=\"/#search_auth\">Authors</a>\n",
            "<a href=\"/#search_tables\">Tables</a>\n",
            "<a href=\"/myciteseer/login;jsessionid=D28D6F6A1BE5E5E0D6E0AF350646878A\">Log in</a>\n",
            "<a href=\"/mcsutils/newAccount;jsessionid=D28D6F6A1BE5E5E0D6E0AF350646878A\">Sign up</a>\n",
            "<a href=\"/metacart;jsessionid=D28D6F6A1BE5E5E0D6E0AF350646878A\">MetaCart</a>\n",
            "<a href=\"https://www.psu.edu/copyright-information/\" target=\"_blank\">DMCA</a>\n",
            "<a href=\"http://www.givenow.psu.edu/CiteseerxFund\"><font color=\"#045FB4\">Donate</font></a>\n",
            "<a href=\"/;jsessionid=D28D6F6A1BE5E5E0D6E0AF350646878A\" title=\"CiteSeerX\"><img alt=\"CiteSeerX logo\" height=\"50%\" src=\"/images/csx_logo.png;jsessionid=D28D6F6A1BE5E5E0D6E0AF350646878A\" width=\"50%\"/></a>\n",
            "<a href=\"/advanced_search;jsessionid=D28D6F6A1BE5E5E0D6E0AF350646878A\" title=\"Search full text, title, abstract, date, author name, author affiliation, etc.\">Advanced Search</a>\n",
            "<a href=\"/advanced_search;jsessionid=D28D6F6A1BE5E5E0D6E0AF350646878A\" title=\"Search full text, title, abstract, date, author name, author affiliation, etc.\">Advanced Search</a>\n",
            "<a href=\"https://www.psu.edu/copyright-information/\" title=\"DMCA\">DMCA</a>\n",
            "<a href=\"/viewdoc/download;jsessionid=D28D6F6A1BE5E5E0D6E0AF350646878A?doi=10.1.1.27.7414&amp;rep=rep1&amp;type=pdf\" title=\"View or Download this document as PDF\">\n",
            "<img alt=\"Download as a PDF\" src=\"/images/pdf_icon.png;jsessionid=D28D6F6A1BE5E5E0D6E0AF350646878A\"/>\n",
            "</a>\n",
            "<a escapexml=\"true\" href=\"ftp://ftp.mrg.dist.unige.it/pub/jair/pub/volume11/boutilier99a.ps\" title=\"ftp://ftp.mrg.dist.unige.it/pub/jair/pub/volume11/boutilier99a.ps\">\n",
            "              [ftp.mrg.dist.unige.it]\n",
            "            </a>\n",
            "<a escapexml=\"true\" href=\"http://www.isi.edu/~blythe/cs541/Readings/boutilier-etal-jair99.ps\" title=\"http://www.isi.edu/~blythe/cs541/Readings/boutilier-etal-jair99.ps\">\n",
            "              [www.isi.edu]\n",
            "            </a>\n",
            "<a escapexml=\"true\" href=\"http://www.cs.cmu.edu/afs/cs/project/jair/pub/volume11/boutilier99a.pdf\" title=\"http://www.cs.cmu.edu/afs/cs/project/jair/pub/volume11/boutilier99a.pdf\">\n",
            "              [www.cs.cmu.edu]\n",
            "            </a>\n",
            "<a escapexml=\"true\" href=\"http://www.eecs.harvard.edu/~avi/CS281r/F06/Papers/boutilier-et-al-mdp.pdf\" title=\"http://www.eecs.harvard.edu/~avi/CS281r/F06/Papers/boutilier-et-al-mdp.pdf\">\n",
            "              [www.eecs.harvard.edu]\n",
            "            </a>\n",
            "<a escapexml=\"true\" href=\"http://jair.org/media/575/live-575-1777-jair.pdf\" title=\"http://jair.org/media/575/live-575-1777-jair.pdf\">\n",
            "              [jair.org]\n",
            "            </a>\n",
            "<a escapexml=\"true\" href=\"http://www.jair.org/media/575/live-575-1777-jair.pdf\" title=\"http://www.jair.org/media/575/live-575-1777-jair.pdf\">\n",
            "              [www.jair.org]\n",
            "            </a>\n",
            "<a escapexml=\"true\" href=\"http://www.cs.brown.edu/people/tld/publications/archive/BoutilieretalJAIR-99.pdf\" title=\"http://www.cs.brown.edu/people/tld/publications/archive/BoutilieretalJAIR-99.pdf\">\n",
            "              [www.cs.brown.edu]\n",
            "            </a>\n",
            "<a escapexml=\"true\" href=\"http://cs.brown.edu/people/tld/publications/archive/BoutilieretalJAIR-99.pdf\" title=\"http://cs.brown.edu/people/tld/publications/archive/BoutilieretalJAIR-99.pdf\">\n",
            "              [cs.brown.edu]\n",
            "            </a>\n",
            "<a escapexml=\"true\" href=\"http://arxiv.org/pdf/1105.5460.pdf\" title=\"http://arxiv.org/pdf/1105.5460.pdf\">\n",
            "              [arxiv.org]\n",
            "            </a>\n",
            "<a href=\"/viewdoc/redirect;jsessionid=D28D6F6A1BE5E5E0D6E0AF350646878A?doi=10.1.1.27.7414&amp;label=DBLP\" title=\"DBLP\">\n",
            "          DBLP</a>\n",
            "<a onclick=\"addToCartProxy(62146)\" style=\"cursor: pointer;\">Save to List</a>\n",
            "<a class=\"remove\" href=\"/myciteseer/action/addPaperCollection;jsessionid=D28D6F6A1BE5E5E0D6E0AF350646878A?doi=10.1.1.27.7414\" title=\"Add this document to your collection (Account required)\">Add to Collection</a>\n",
            "<a class=\"remove\" href=\"/correct;jsessionid=D28D6F6A1BE5E5E0D6E0AF350646878A?doi=10.1.1.27.7414\" title=\"Submit corrections for this document (Account required)\">Correct Errors</a>\n",
            "<a class=\"remove\" href=\"/myciteseer/action/editMonitors;jsessionid=D28D6F6A1BE5E5E0D6E0AF350646878A?doi=10.1.1.27.7414\" title=\"Monitor changes to this document (Account required)\">Monitor Changes</a>\n",
            "<a href=\"/showciting;jsessionid=D28D6F6A1BE5E5E0D6E0AF350646878A?doi=10.1.1.27.7414\" title=\"number of citations\">514 - 4 self</a>\n",
            "<a href=\"/viewdoc/summary;jsessionid=D28D6F6A1BE5E5E0D6E0AF350646878A?doi=10.1.1.27.7414\">Summary</a>\n",
            "<a href=\"/viewdoc/citations;jsessionid=D28D6F6A1BE5E5E0D6E0AF350646878A?doi=10.1.1.27.7414\">Citations</a>\n",
            "<a href=\"/viewdoc/similar;jsessionid=D28D6F6A1BE5E5E0D6E0AF350646878A?doi=10.1.1.27.7414&amp;type=ab\" title=\"Documents that cite the same works\">Active Bibliography</a>\n",
            "<a href=\"/viewdoc/similar;jsessionid=D28D6F6A1BE5E5E0D6E0AF350646878A?doi=10.1.1.27.7414&amp;type=cc\" title=\"Documents cited by the same works\">Co-citation</a>\n",
            "<a href=\"/viewdoc/similar;jsessionid=D28D6F6A1BE5E5E0D6E0AF350646878A?doi=10.1.1.27.7414&amp;type=sc\" title=\"Documents in the Same Cluster\">Clustered Documents</a>\n",
            "<a href=\"/viewdoc/versions;jsessionid=D28D6F6A1BE5E5E0D6E0AF350646878A?doi=10.1.1.27.7414\">Version History</a>\n",
            "<a href=\"/viewdoc/bookmark;jsessionid=D28D6F6A1BE5E5E0D6E0AF350646878A?doi=10.1.1.27.7414&amp;title=Decision-Theoretic Planning: Structural Assumptions and Computational Leverage&amp;site=facebook\" title=\"Facebook\"><img alt=\"Facebook\" src=\"/images/facebook_icon.png;jsessionid=D28D6F6A1BE5E5E0D6E0AF350646878A\"/></a>\n",
            "<a href=\"/viewdoc/bookmark;jsessionid=D28D6F6A1BE5E5E0D6E0AF350646878A?doi=10.1.1.27.7414&amp;title=Decision-Theoretic Planning: Structural Assumptions and Computational Leverage&amp;site=twitter\" title=\"Twitter\"><img alt=\"Twitter\" src=\"/images/twitter_icon.png;jsessionid=D28D6F6A1BE5E5E0D6E0AF350646878A\"/></a>\n",
            "<a href=\"/viewdoc/bookmark;jsessionid=D28D6F6A1BE5E5E0D6E0AF350646878A?doi=10.1.1.27.7414&amp;title=Decision-Theoretic Planning: Structural Assumptions and Computational Leverage&amp;site=reddit\" title=\"Reddit\"><img alt=\"Reddit\" src=\"/images/reddit_icon.png;jsessionid=D28D6F6A1BE5E5E0D6E0AF350646878A\"/></a>\n",
            "<a href=\"/viewdoc/bookmark;jsessionid=D28D6F6A1BE5E5E0D6E0AF350646878A?doi=10.1.1.27.7414&amp;site=bibsonomy&amp;title=Decision-Theoretic Planning: Structural Assumptions and Computational Leverage\" title=\"BibSonomy\"><img alt=\"Bibsonomy\" src=\"/images/bibsonomy_icon.png;jsessionid=D28D6F6A1BE5E5E0D6E0AF350646878A\"/></a>\n",
            "<a href=\"/search;jsessionid=D28D6F6A1BE5E5E0D6E0AF350646878A?q=structural assumption&amp;submit=Search&amp;sort=rlv&amp;t=doc\">structural assumption</a>\n",
            "<a href=\"/search;jsessionid=D28D6F6A1BE5E5E0D6E0AF350646878A?q=decision-theoretic planning&amp;submit=Search&amp;sort=rlv&amp;t=doc\">decision-theoretic planning</a>\n",
            "<a href=\"/search;jsessionid=D28D6F6A1BE5E5E0D6E0AF350646878A?q=computational leverage&amp;submit=Search&amp;sort=rlv&amp;t=doc\">computational leverage</a>\n",
            "<a href=\"/search;jsessionid=D28D6F6A1BE5E5E0D6E0AF350646878A?q=central problem&amp;submit=Search&amp;sort=rlv&amp;t=doc\">central problem</a>\n",
            "<a href=\"/search;jsessionid=D28D6F6A1BE5E5E0D6E0AF350646878A?q=structural property&amp;submit=Search&amp;sort=rlv&amp;t=doc\">structural property</a>\n",
            "<a href=\"/search;jsessionid=D28D6F6A1BE5E5E0D6E0AF350646878A?q=particular class&amp;submit=Search&amp;sort=rlv&amp;t=doc\">particular class</a>\n",
            "<a href=\"/search;jsessionid=D28D6F6A1BE5E5E0D6E0AF350646878A?q=decision analysis&amp;submit=Search&amp;sort=rlv&amp;t=doc\">decision analysis</a>\n",
            "<a href=\"/search;jsessionid=D28D6F6A1BE5E5E0D6E0AF350646878A?q=unifying framework&amp;submit=Search&amp;sort=rlv&amp;t=doc\">unifying framework</a>\n",
            "<a href=\"/search;jsessionid=D28D6F6A1BE5E5E0D6E0AF350646878A?q=ai planning&amp;submit=Search&amp;sort=rlv&amp;t=doc\">ai planning</a>\n",
            "<a href=\"/search;jsessionid=D28D6F6A1BE5E5E0D6E0AF350646878A?q=substantial way&amp;submit=Search&amp;sort=rlv&amp;t=doc\">substantial way</a>\n",
            "<a href=\"/search;jsessionid=D28D6F6A1BE5E5E0D6E0AF350646878A?q=optimal policy&amp;submit=Search&amp;sort=rlv&amp;t=doc\">optimal policy</a>\n",
            "<a href=\"/search;jsessionid=D28D6F6A1BE5E5E0D6E0AF350646878A?q=many class&amp;submit=Search&amp;sort=rlv&amp;t=doc\">many class</a>\n",
            "<a href=\"/search;jsessionid=D28D6F6A1BE5E5E0D6E0AF350646878A?q=mdp-related method&amp;submit=Search&amp;sort=rlv&amp;t=doc\">mdp-related method</a>\n",
            "<a href=\"/search;jsessionid=D28D6F6A1BE5E5E0D6E0AF350646878A?q=many different field&amp;submit=Search&amp;sort=rlv&amp;t=doc\">many different field</a>\n",
            "<a href=\"/search;jsessionid=D28D6F6A1BE5E5E0D6E0AF350646878A?q=decision theory&amp;submit=Search&amp;sort=rlv&amp;t=doc\">decision theory</a>\n",
            "<a href=\"/search;jsessionid=D28D6F6A1BE5E5E0D6E0AF350646878A?q=control theory&amp;submit=Search&amp;sort=rlv&amp;t=doc\">control theory</a>\n",
            "<a href=\"/search;jsessionid=D28D6F6A1BE5E5E0D6E0AF350646878A?q=operation research&amp;submit=Search&amp;sort=rlv&amp;t=doc\">operation research</a>\n",
            "<a href=\"/search;jsessionid=D28D6F6A1BE5E5E0D6E0AF350646878A?q=sequential decision making&amp;submit=Search&amp;sort=rlv&amp;t=doc\">sequential decision making</a>\n",
            "<a href=\"/search;jsessionid=D28D6F6A1BE5E5E0D6E0AF350646878A?q=markov decision process&amp;submit=Search&amp;sort=rlv&amp;t=doc\">markov decision process</a>\n",
            "<a href=\"/search;jsessionid=D28D6F6A1BE5E5E0D6E0AF350646878A?q=value function&amp;submit=Search&amp;sort=rlv&amp;t=doc\">value function</a>\n",
            "<a href=\"http://lucene.apache.org/solr/\"><img alt=\"Apache Solr\" height=\"8%\" src=\"/images/solrlogo1.png;jsessionid=D28D6F6A1BE5E5E0D6E0AF350646878A\" width=\"8%\"/></a>\n",
            "<a href=\"http://csxstatic.ist.psu.edu/home\" target=\"_blank\">About CiteSeerX</a>\n",
            "<a href=\"http://csxcrawlweb01.ist.psu.edu/submit_pub/\" target=\"_blank\">Submit and Index Documents</a>\n",
            "<a href=\"http://csxstatic.ist.psu.edu/privacy-policy\" target=\"_blank\">Privacy Policy</a>\n",
            "<a href=\"http://csxstatic.ist.psu.edu/help\" target=\"_blank\">Help</a>\n",
            "<a href=\"http://csxstatic.ist.psu.edu/downloads/data\" target=\"_blank\">Data</a>\n",
            "<a href=\"https://github.com/SeerLabs/CiteSeerX\" target=\"_blank\">Source</a>\n",
            "<a href=\"http://csxstatic.ist.psu.edu/contact\" target=\"_blank\">Contact Us</a>\n",
            "<a href=\"http://ist.psu.edu\">The College of Information Sciences and Technology</a>\n",
            "<a href=\"http://www.psu.edu\">The Pennsylvania State University</a>\n"
          ],
          "name": "stdout"
        }
      ]
    },
    {
      "cell_type": "code",
      "metadata": {
        "colab": {
          "base_uri": "https://localhost:8080/"
        },
        "id": "EbkgApn2I4SL",
        "outputId": "91082498-4f4f-48a0-9731-c14b3cc1fa58"
      },
      "source": [
        "soup_a[27]\n",
        "#the number of citation will be on the 27th a tag"
      ],
      "execution_count": 17,
      "outputs": [
        {
          "output_type": "execute_result",
          "data": {
            "text/plain": [
              "<a href=\"/showciting;jsessionid=D28D6F6A1BE5E5E0D6E0AF350646878A?doi=10.1.1.27.7414\" title=\"number of citations\">514 - 4 self</a>"
            ]
          },
          "metadata": {
            "tags": []
          },
          "execution_count": 17
        }
      ]
    },
    {
      "cell_type": "code",
      "metadata": {
        "id": "V6sqgMqkI4SM"
      },
      "source": [
        ""
      ],
      "execution_count": 17,
      "outputs": []
    },
    {
      "cell_type": "code",
      "metadata": {
        "id": "NnfU5f0526GM"
      },
      "source": [
        "#for the xml page\n",
        "src_xml = result_xml.content\n"
      ],
      "execution_count": 18,
      "outputs": []
    },
    {
      "cell_type": "code",
      "metadata": {
        "id": "8O4uZgAQ3DJR"
      },
      "source": [
        "soup_xml = BeautifulSoup(src_xml, 'lxml')"
      ],
      "execution_count": 19,
      "outputs": []
    },
    {
      "cell_type": "code",
      "metadata": {
        "id": "o5lZThsE3DNS",
        "colab": {
          "base_uri": "https://localhost:8080/"
        },
        "outputId": "16bb9921-52dc-4cb2-c0f4-e9b5265e418f"
      },
      "source": [
        "soup_xml"
      ],
      "execution_count": 20,
      "outputs": [
        {
          "output_type": "execute_result",
          "data": {
            "text/plain": [
              "<?xml version=\"1.0\" encoding=\"UTF-8\" standalone=\"no\"?><html><body><oai-pmh xmlns=\"http://www.openarchives.org/OAI/2.0/\" xmlns:xsi=\"http://www.w3.org/2001/XMLSchema-instance\" xsi:schemalocation=\"http://www.openarchives.org/OAI/2.0/ http://www.openarchives.org/OAI/2.0/OAI-PMH.xsd\">\n",
              "<responsedate>2021-07-13T19:11:26Z</responsedate>\n",
              "<request identifier=\"oai:CiteSeerX.psu:10.1.1.141.6422\" metadataprefix=\"oai_dc\" verb=\"GetRecord\">http://citeseerx.ist.psu.edu/oai2</request>\n",
              "<getrecord>\n",
              "<record>\n",
              "<header>\n",
              "<identifier>oai:CiteSeerX.psu:10.1.1.141.6422</identifier>\n",
              "<datestamp>2013-01-18</datestamp>\n",
              "</header>\n",
              "<metadata>\n",
              "<oai_dc:dc xmlns:dc=\"http://purl.org/dc/elements/1.1/\" xmlns:oai_dc=\"http://www.openarchives.org/OAI/2.0/oai_dc/\" xsi:schemalocation=\"http://www.openarchives.org/OAI/2.0/oai_dc/ http://www.openarchives.org/OAI/2.0/oai_dc.xsd\">\n",
              "<dc:title>Designing Games With A Purpose</dc:title>\n",
              "<dc:creator>Luis von Ahn , Laura Dabbish</dc:creator>\n",
              "<dc:description> Data generated as a side effect of game play also solves computational problems and trains AI algorithms. </dc:description>\n",
              "<dc:contributor>The Pennsylvania State University CiteSeerX Archives</dc:contributor>\n",
              "<dc:publisher></dc:publisher>\n",
              "<dc:date>2013-01-18</dc:date>\n",
              "<dc:date>2009-07-11</dc:date>\n",
              "<dc:date>2008</dc:date>\n",
              "<dc:format>application/pdf</dc:format>\n",
              "<dc:type>text</dc:type>\n",
              "<dc:identifier>http://citeseerx.ist.psu.edu/viewdoc/summary?doi=10.1.1.141.6422</dc:identifier>\n",
              "<dc:source>http://www.cs.cmu.edu/~biglou/GWAP_CACM.pdf</dc:source>\n",
              "<dc:language>en</dc:language>\n",
              "<dc:rights>Metadata may be used without restrictions as long as the oai identifier remains attached to it.</dc:rights>\n",
              "</oai_dc:dc>\n",
              "</metadata>\n",
              "</record>\n",
              "</getrecord>\n",
              "</oai-pmh>\n",
              "</body></html>"
            ]
          },
          "metadata": {
            "tags": []
          },
          "execution_count": 20
        }
      ]
    },
    {
      "cell_type": "code",
      "metadata": {
        "id": "KFjY3u8A3DQI",
        "colab": {
          "base_uri": "https://localhost:8080/"
        },
        "outputId": "02321f35-6f72-48fe-833c-5ff5b75bd74b"
      },
      "source": [
        "soup_xml.find_all(\"dc:title\")"
      ],
      "execution_count": 21,
      "outputs": [
        {
          "output_type": "execute_result",
          "data": {
            "text/plain": [
              "[<dc:title>Designing Games With A Purpose</dc:title>]"
            ]
          },
          "metadata": {
            "tags": []
          },
          "execution_count": 21
        }
      ]
    },
    {
      "cell_type": "code",
      "metadata": {
        "id": "GMf0K3NU3DS0",
        "colab": {
          "base_uri": "https://localhost:8080/"
        },
        "outputId": "c07363d6-4252-407e-f4f0-c1d42bc066b7"
      },
      "source": [
        "soup_xml.find_all(\"dc:creator\")"
      ],
      "execution_count": 22,
      "outputs": [
        {
          "output_type": "execute_result",
          "data": {
            "text/plain": [
              "[<dc:creator>Luis von Ahn , Laura Dabbish</dc:creator>]"
            ]
          },
          "metadata": {
            "tags": []
          },
          "execution_count": 22
        }
      ]
    },
    {
      "cell_type": "code",
      "metadata": {
        "id": "s3Ztw9Ok3DVp",
        "colab": {
          "base_uri": "https://localhost:8080/"
        },
        "outputId": "fac5fc1b-f26c-448c-8972-261f7e5b9328"
      },
      "source": [
        "soup_xml.find_all(\"dc:description\")"
      ],
      "execution_count": 23,
      "outputs": [
        {
          "output_type": "execute_result",
          "data": {
            "text/plain": [
              "[<dc:description> Data generated as a side effect of game play also solves computational problems and trains AI algorithms. </dc:description>]"
            ]
          },
          "metadata": {
            "tags": []
          },
          "execution_count": 23
        }
      ]
    },
    {
      "cell_type": "code",
      "metadata": {
        "id": "hFet_3bK8tch",
        "colab": {
          "base_uri": "https://localhost:8080/"
        },
        "outputId": "d7ad54d9-7a2e-48db-bfc8-d18be72f27e8"
      },
      "source": [
        "soup_xml.find_all(\"dc:date\")"
      ],
      "execution_count": 24,
      "outputs": [
        {
          "output_type": "execute_result",
          "data": {
            "text/plain": [
              "[<dc:date>2013-01-18</dc:date>,\n",
              " <dc:date>2009-07-11</dc:date>,\n",
              " <dc:date>2008</dc:date>]"
            ]
          },
          "metadata": {
            "tags": []
          },
          "execution_count": 24
        }
      ]
    },
    {
      "cell_type": "code",
      "metadata": {
        "id": "xb0kKs9h8tfb",
        "colab": {
          "base_uri": "https://localhost:8080/"
        },
        "outputId": "1e001a9d-abb5-495f-db9a-893fbad4ea6d"
      },
      "source": [
        "soup_xml.find_all(\"dc:identifier\")"
      ],
      "execution_count": 25,
      "outputs": [
        {
          "output_type": "execute_result",
          "data": {
            "text/plain": [
              "[<dc:identifier>http://citeseerx.ist.psu.edu/viewdoc/summary?doi=10.1.1.141.6422</dc:identifier>]"
            ]
          },
          "metadata": {
            "tags": []
          },
          "execution_count": 25
        }
      ]
    },
    {
      "cell_type": "code",
      "metadata": {
        "id": "6JH94g6TANn6",
        "colab": {
          "base_uri": "https://localhost:8080/"
        },
        "outputId": "dc2b4254-2a40-4e25-cdb4-49416b6238c6"
      },
      "source": [
        "soup_xml.find_all(\"dc:source\")"
      ],
      "execution_count": 26,
      "outputs": [
        {
          "output_type": "execute_result",
          "data": {
            "text/plain": [
              "[<dc:source>http://www.cs.cmu.edu/~biglou/GWAP_CACM.pdf</dc:source>]"
            ]
          },
          "metadata": {
            "tags": []
          },
          "execution_count": 26
        }
      ]
    },
    {
      "cell_type": "code",
      "metadata": {
        "id": "Q0D8AdG2Ersn"
      },
      "source": [
        ""
      ],
      "execution_count": 26,
      "outputs": []
    }
  ]
}
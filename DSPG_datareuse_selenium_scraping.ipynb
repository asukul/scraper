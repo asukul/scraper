{
  "nbformat": 4,
  "nbformat_minor": 0,
  "metadata": {
    "colab": {
      "name": "DSPG-datareuse-selenium-scraping.ipynb",
      "provenance": [],
      "collapsed_sections": [],
      "authorship_tag": "ABX9TyMLAbWfOAnJ6l5abZ61phuk",
      "include_colab_link": true
    },
    "kernelspec": {
      "name": "python3",
      "display_name": "Python 3"
    },
    "language_info": {
      "name": "python"
    }
  },
  "cells": [
    {
      "cell_type": "markdown",
      "metadata": {
        "id": "view-in-github",
        "colab_type": "text"
      },
      "source": [
        "<a href=\"https://colab.research.google.com/github/asukul/scraper/blob/main/DSPG_datareuse_selenium_scraping.ipynb\" target=\"_parent\"><img src=\"https://colab.research.google.com/assets/colab-badge.svg\" alt=\"Open In Colab\"/></a>"
      ]
    },
    {
      "cell_type": "code",
      "metadata": {
        "id": "Y-Y_T4erhVAW"
      },
      "source": [
        "!pip install kora -q\n",
        "from kora.selenium import wd\n",
        "#wd.get(\"url\")"
      ],
      "execution_count": 3,
      "outputs": []
    },
    {
      "cell_type": "code",
      "metadata": {
        "id": "ra_haHJBhtYS"
      },
      "source": [
        "wd.get(\"https://datadryad.org/stash/dataset/doi:10.5061/dryad.mn058n7\")"
      ],
      "execution_count": 4,
      "outputs": []
    },
    {
      "cell_type": "code",
      "metadata": {
        "colab": {
          "base_uri": "https://localhost:8080/"
        },
        "id": "qpgYZ-Ryh7A6",
        "outputId": "2dc4fe78-2e4c-4064-aa51-4ee8b0ae08f8"
      },
      "source": [
        "wd.find_element_by_class_name(\"o-metrics__number\")"
      ],
      "execution_count": 7,
      "outputs": [
        {
          "output_type": "execute_result",
          "data": {
            "text/plain": [
              "<div class=\"o-metrics__number\">\n",
              "    157 views\n",
              "  </div>"
            ]
          },
          "metadata": {
            "tags": []
          },
          "execution_count": 7
        }
      ]
    },
    {
      "cell_type": "code",
      "metadata": {
        "colab": {
          "base_uri": "https://localhost:8080/"
        },
        "id": "44XtKce0h8ES",
        "outputId": "31f9f743-38a2-45be-eb86-e8eaf1dc8add"
      },
      "source": [
        "wd.find_elements_by_class_name(\"o-metrics__number\")"
      ],
      "execution_count": 8,
      "outputs": [
        {
          "output_type": "execute_result",
          "data": {
            "text/plain": [
              "[<div class=\"o-metrics__number\">\n",
              "     157 views\n",
              "   </div>,\n",
              " <div class=\"o-metrics__number\">37 downloads</div>,\n",
              " <div class=\"o-metrics__number\" id=\"metrics_citation_count\">\n",
              "       <a id=\"citation_link\" data-remote=\"true\" href=\"/stash/landing/citations/30963\">1 citations</a>\n",
              "   </div>,\n",
              " <div class=\"o-metrics__number\" id=\"metrics_citation_spinner\" style=\"display: none;\">\n",
              "     <img alt=\"Loading spinner\" src=\"/assets/stash_engine/spinner-47c716a105894b5888f62cfa3108a66830f958e41247c4396d70a57821464ffa.gif\" width=\"80\" height=\"60\">\n",
              "   </div>]"
            ]
          },
          "metadata": {
            "tags": []
          },
          "execution_count": 8
        }
      ]
    },
    {
      "cell_type": "code",
      "metadata": {
        "id": "6bRMQuEekkmh"
      },
      "source": [
        ""
      ],
      "execution_count": null,
      "outputs": []
    }
  ]
}